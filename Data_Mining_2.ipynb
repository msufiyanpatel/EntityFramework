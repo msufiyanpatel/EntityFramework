{
  "nbformat": 4,
  "nbformat_minor": 0,
  "metadata": {
    "colab": {
      "provenance": [],
      "include_colab_link": true
    },
    "kernelspec": {
      "name": "python3",
      "display_name": "Python 3"
    },
    "language_info": {
      "name": "python"
    }
  },
  "cells": [
    {
      "cell_type": "markdown",
      "metadata": {
        "id": "view-in-github",
        "colab_type": "text"
      },
      "source": [
        "<a href=\"https://colab.research.google.com/github/msufiyanpatel/data-cleaning-python/blob/main/Data_Mining_2.ipynb\" target=\"_parent\"><img src=\"https://colab.research.google.com/assets/colab-badge.svg\" alt=\"Open In Colab\"/></a>"
      ]
    },
    {
      "cell_type": "code",
      "execution_count": null,
      "metadata": {
        "id": "cj_mIwd0dVwJ"
      },
      "outputs": [],
      "source": [
        "import pandas as pd \n",
        "import numpy as np"
      ]
    },
    {
      "cell_type": "code",
      "source": [
        "mylist = pd.read_csv(\"/content/DM_Assignment_02_Dataset.csv\")"
      ],
      "metadata": {
        "id": "OhZXjaBgdiXs"
      },
      "execution_count": null,
      "outputs": []
    },
    {
      "cell_type": "code",
      "source": [
        "mylist.head()"
      ],
      "metadata": {
        "colab": {
          "base_uri": "https://localhost:8080/",
          "height": 337
        },
        "id": "lOXkUUfDdtM6",
        "outputId": "b5eb98c9-82fa-438b-db0a-ea022ef5e74f"
      },
      "execution_count": null,
      "outputs": [
        {
          "output_type": "execute_result",
          "data": {
            "text/plain": [
              "               business_categories business_city             business_id  \\\n",
              "0  Breakfast & Brunch; Restaurants       Phoenix  9yKzy9PApeiPPOUJEtnvkg   \n",
              "1      Italian; Pizza; Restaurants       Phoenix  ZRJwVLyzEJq1VAihDhYiow   \n",
              "2      Middle Eastern; Restaurants         Tempe  6oRAC4uyJCsJl1X0WZpVSA   \n",
              "3    Active Life; Dog Parks; Parks    Scottsdale  _1QQZuf4zZOyFCvXc0o6Vg   \n",
              "4                Tires; Automotive          Mesa  6ozycU1RpktNG2-1BroVtw   \n",
              "\n",
              "         date  stars                                               text  \\\n",
              "0  26/01/2011      5  My wife took me here on my birthday for breakf...   \n",
              "1  27/07/2011      5  I have no idea why some people give bad review...   \n",
              "2  14/06/2012      4  love the gyro plate. Rice is so good and I als...   \n",
              "3  27/05/2010      5  Rosie, Dakota, and I LOVE Chaparral Dog Park!!...   \n",
              "4  05/01/2012      5  General Manager Scott Petello is a good egg!!!...   \n",
              "\n",
              "   useful                 user_id  \n",
              "0       5  rLtl8ZkDX5vH5nAx9C3q5Q  \n",
              "1       0  0a2KyEL0d3Yb1V6aivbIuQ  \n",
              "2       1  0hT2KtfLiobPvh6cDC8JQg  \n",
              "3       2  uZetl9T0NcROGOyFfughhg  \n",
              "4       0  vYmM4KTsC8ZfQBg-j5MWkw  "
            ],
            "text/html": [
              "\n",
              "  <div id=\"df-0b68da64-71fc-48b9-bad4-4314d8cc3144\">\n",
              "    <div class=\"colab-df-container\">\n",
              "      <div>\n",
              "<style scoped>\n",
              "    .dataframe tbody tr th:only-of-type {\n",
              "        vertical-align: middle;\n",
              "    }\n",
              "\n",
              "    .dataframe tbody tr th {\n",
              "        vertical-align: top;\n",
              "    }\n",
              "\n",
              "    .dataframe thead th {\n",
              "        text-align: right;\n",
              "    }\n",
              "</style>\n",
              "<table border=\"1\" class=\"dataframe\">\n",
              "  <thead>\n",
              "    <tr style=\"text-align: right;\">\n",
              "      <th></th>\n",
              "      <th>business_categories</th>\n",
              "      <th>business_city</th>\n",
              "      <th>business_id</th>\n",
              "      <th>date</th>\n",
              "      <th>stars</th>\n",
              "      <th>text</th>\n",
              "      <th>useful</th>\n",
              "      <th>user_id</th>\n",
              "    </tr>\n",
              "  </thead>\n",
              "  <tbody>\n",
              "    <tr>\n",
              "      <th>0</th>\n",
              "      <td>Breakfast &amp; Brunch; Restaurants</td>\n",
              "      <td>Phoenix</td>\n",
              "      <td>9yKzy9PApeiPPOUJEtnvkg</td>\n",
              "      <td>26/01/2011</td>\n",
              "      <td>5</td>\n",
              "      <td>My wife took me here on my birthday for breakf...</td>\n",
              "      <td>5</td>\n",
              "      <td>rLtl8ZkDX5vH5nAx9C3q5Q</td>\n",
              "    </tr>\n",
              "    <tr>\n",
              "      <th>1</th>\n",
              "      <td>Italian; Pizza; Restaurants</td>\n",
              "      <td>Phoenix</td>\n",
              "      <td>ZRJwVLyzEJq1VAihDhYiow</td>\n",
              "      <td>27/07/2011</td>\n",
              "      <td>5</td>\n",
              "      <td>I have no idea why some people give bad review...</td>\n",
              "      <td>0</td>\n",
              "      <td>0a2KyEL0d3Yb1V6aivbIuQ</td>\n",
              "    </tr>\n",
              "    <tr>\n",
              "      <th>2</th>\n",
              "      <td>Middle Eastern; Restaurants</td>\n",
              "      <td>Tempe</td>\n",
              "      <td>6oRAC4uyJCsJl1X0WZpVSA</td>\n",
              "      <td>14/06/2012</td>\n",
              "      <td>4</td>\n",
              "      <td>love the gyro plate. Rice is so good and I als...</td>\n",
              "      <td>1</td>\n",
              "      <td>0hT2KtfLiobPvh6cDC8JQg</td>\n",
              "    </tr>\n",
              "    <tr>\n",
              "      <th>3</th>\n",
              "      <td>Active Life; Dog Parks; Parks</td>\n",
              "      <td>Scottsdale</td>\n",
              "      <td>_1QQZuf4zZOyFCvXc0o6Vg</td>\n",
              "      <td>27/05/2010</td>\n",
              "      <td>5</td>\n",
              "      <td>Rosie, Dakota, and I LOVE Chaparral Dog Park!!...</td>\n",
              "      <td>2</td>\n",
              "      <td>uZetl9T0NcROGOyFfughhg</td>\n",
              "    </tr>\n",
              "    <tr>\n",
              "      <th>4</th>\n",
              "      <td>Tires; Automotive</td>\n",
              "      <td>Mesa</td>\n",
              "      <td>6ozycU1RpktNG2-1BroVtw</td>\n",
              "      <td>05/01/2012</td>\n",
              "      <td>5</td>\n",
              "      <td>General Manager Scott Petello is a good egg!!!...</td>\n",
              "      <td>0</td>\n",
              "      <td>vYmM4KTsC8ZfQBg-j5MWkw</td>\n",
              "    </tr>\n",
              "  </tbody>\n",
              "</table>\n",
              "</div>\n",
              "      <button class=\"colab-df-convert\" onclick=\"convertToInteractive('df-0b68da64-71fc-48b9-bad4-4314d8cc3144')\"\n",
              "              title=\"Convert this dataframe to an interactive table.\"\n",
              "              style=\"display:none;\">\n",
              "        \n",
              "  <svg xmlns=\"http://www.w3.org/2000/svg\" height=\"24px\"viewBox=\"0 0 24 24\"\n",
              "       width=\"24px\">\n",
              "    <path d=\"M0 0h24v24H0V0z\" fill=\"none\"/>\n",
              "    <path d=\"M18.56 5.44l.94 2.06.94-2.06 2.06-.94-2.06-.94-.94-2.06-.94 2.06-2.06.94zm-11 1L8.5 8.5l.94-2.06 2.06-.94-2.06-.94L8.5 2.5l-.94 2.06-2.06.94zm10 10l.94 2.06.94-2.06 2.06-.94-2.06-.94-.94-2.06-.94 2.06-2.06.94z\"/><path d=\"M17.41 7.96l-1.37-1.37c-.4-.4-.92-.59-1.43-.59-.52 0-1.04.2-1.43.59L10.3 9.45l-7.72 7.72c-.78.78-.78 2.05 0 2.83L4 21.41c.39.39.9.59 1.41.59.51 0 1.02-.2 1.41-.59l7.78-7.78 2.81-2.81c.8-.78.8-2.07 0-2.86zM5.41 20L4 18.59l7.72-7.72 1.47 1.35L5.41 20z\"/>\n",
              "  </svg>\n",
              "      </button>\n",
              "      \n",
              "  <style>\n",
              "    .colab-df-container {\n",
              "      display:flex;\n",
              "      flex-wrap:wrap;\n",
              "      gap: 12px;\n",
              "    }\n",
              "\n",
              "    .colab-df-convert {\n",
              "      background-color: #E8F0FE;\n",
              "      border: none;\n",
              "      border-radius: 50%;\n",
              "      cursor: pointer;\n",
              "      display: none;\n",
              "      fill: #1967D2;\n",
              "      height: 32px;\n",
              "      padding: 0 0 0 0;\n",
              "      width: 32px;\n",
              "    }\n",
              "\n",
              "    .colab-df-convert:hover {\n",
              "      background-color: #E2EBFA;\n",
              "      box-shadow: 0px 1px 2px rgba(60, 64, 67, 0.3), 0px 1px 3px 1px rgba(60, 64, 67, 0.15);\n",
              "      fill: #174EA6;\n",
              "    }\n",
              "\n",
              "    [theme=dark] .colab-df-convert {\n",
              "      background-color: #3B4455;\n",
              "      fill: #D2E3FC;\n",
              "    }\n",
              "\n",
              "    [theme=dark] .colab-df-convert:hover {\n",
              "      background-color: #434B5C;\n",
              "      box-shadow: 0px 1px 3px 1px rgba(0, 0, 0, 0.15);\n",
              "      filter: drop-shadow(0px 1px 2px rgba(0, 0, 0, 0.3));\n",
              "      fill: #FFFFFF;\n",
              "    }\n",
              "  </style>\n",
              "\n",
              "      <script>\n",
              "        const buttonEl =\n",
              "          document.querySelector('#df-0b68da64-71fc-48b9-bad4-4314d8cc3144 button.colab-df-convert');\n",
              "        buttonEl.style.display =\n",
              "          google.colab.kernel.accessAllowed ? 'block' : 'none';\n",
              "\n",
              "        async function convertToInteractive(key) {\n",
              "          const element = document.querySelector('#df-0b68da64-71fc-48b9-bad4-4314d8cc3144');\n",
              "          const dataTable =\n",
              "            await google.colab.kernel.invokeFunction('convertToInteractive',\n",
              "                                                     [key], {});\n",
              "          if (!dataTable) return;\n",
              "\n",
              "          const docLinkHtml = 'Like what you see? Visit the ' +\n",
              "            '<a target=\"_blank\" href=https://colab.research.google.com/notebooks/data_table.ipynb>data table notebook</a>'\n",
              "            + ' to learn more about interactive tables.';\n",
              "          element.innerHTML = '';\n",
              "          dataTable['output_type'] = 'display_data';\n",
              "          await google.colab.output.renderOutput(dataTable, element);\n",
              "          const docLink = document.createElement('div');\n",
              "          docLink.innerHTML = docLinkHtml;\n",
              "          element.appendChild(docLink);\n",
              "        }\n",
              "      </script>\n",
              "    </div>\n",
              "  </div>\n",
              "  "
            ]
          },
          "metadata": {},
          "execution_count": 20
        }
      ]
    },
    {
      "cell_type": "code",
      "source": [
        "mylist.info()"
      ],
      "metadata": {
        "colab": {
          "base_uri": "https://localhost:8080/"
        },
        "id": "h5sMgISEHiEo",
        "outputId": "78429991-405b-4448-eb79-edfc145e3f45"
      },
      "execution_count": null,
      "outputs": [
        {
          "output_type": "stream",
          "name": "stdout",
          "text": [
            "<class 'pandas.core.frame.DataFrame'>\n",
            "RangeIndex: 229907 entries, 0 to 229906\n",
            "Data columns (total 8 columns):\n",
            " #   Column               Non-Null Count   Dtype \n",
            "---  ------               --------------   ----- \n",
            " 0   business_categories  229130 non-null  object\n",
            " 1   business_city        229907 non-null  object\n",
            " 2   business_id          229907 non-null  object\n",
            " 3   date                 229907 non-null  object\n",
            " 4   stars                229907 non-null  int64 \n",
            " 5   text                 229901 non-null  object\n",
            " 6   useful               229907 non-null  int64 \n",
            " 7   user_id              229907 non-null  object\n",
            "dtypes: int64(2), object(6)\n",
            "memory usage: 14.0+ MB\n"
          ]
        }
      ]
    },
    {
      "cell_type": "markdown",
      "source": [
        "# **Question 1.1: Check and remove missing data**\n"
      ],
      "metadata": {
        "id": "dV9XkcIM4XiU"
      }
    },
    {
      "cell_type": "code",
      "source": [
        "\n",
        "\n",
        "data = pd.DataFrame(mylist)\n",
        "\n",
        "data.isnull()"
      ],
      "metadata": {
        "colab": {
          "base_uri": "https://localhost:8080/",
          "height": 423
        },
        "id": "bRwfvfCDHlvv",
        "outputId": "b3ce3ddb-d9e0-403d-d61f-e8b96b6cc173"
      },
      "execution_count": null,
      "outputs": [
        {
          "output_type": "execute_result",
          "data": {
            "text/plain": [
              "        business_categories  business_city  business_id   date  stars   text  \\\n",
              "0                     False          False        False  False  False  False   \n",
              "1                     False          False        False  False  False  False   \n",
              "2                     False          False        False  False  False  False   \n",
              "3                     False          False        False  False  False  False   \n",
              "4                     False          False        False  False  False  False   \n",
              "...                     ...            ...          ...    ...    ...    ...   \n",
              "229902                False          False        False  False  False  False   \n",
              "229903                False          False        False  False  False  False   \n",
              "229904                False          False        False  False  False  False   \n",
              "229905                False          False        False  False  False  False   \n",
              "229906                False          False        False  False  False  False   \n",
              "\n",
              "        useful  user_id  \n",
              "0        False    False  \n",
              "1        False    False  \n",
              "2        False    False  \n",
              "3        False    False  \n",
              "4        False    False  \n",
              "...        ...      ...  \n",
              "229902   False    False  \n",
              "229903   False    False  \n",
              "229904   False    False  \n",
              "229905   False    False  \n",
              "229906   False    False  \n",
              "\n",
              "[229907 rows x 8 columns]"
            ],
            "text/html": [
              "\n",
              "  <div id=\"df-5a46246b-615f-473d-9d6a-cb7bc2ffbaac\">\n",
              "    <div class=\"colab-df-container\">\n",
              "      <div>\n",
              "<style scoped>\n",
              "    .dataframe tbody tr th:only-of-type {\n",
              "        vertical-align: middle;\n",
              "    }\n",
              "\n",
              "    .dataframe tbody tr th {\n",
              "        vertical-align: top;\n",
              "    }\n",
              "\n",
              "    .dataframe thead th {\n",
              "        text-align: right;\n",
              "    }\n",
              "</style>\n",
              "<table border=\"1\" class=\"dataframe\">\n",
              "  <thead>\n",
              "    <tr style=\"text-align: right;\">\n",
              "      <th></th>\n",
              "      <th>business_categories</th>\n",
              "      <th>business_city</th>\n",
              "      <th>business_id</th>\n",
              "      <th>date</th>\n",
              "      <th>stars</th>\n",
              "      <th>text</th>\n",
              "      <th>useful</th>\n",
              "      <th>user_id</th>\n",
              "    </tr>\n",
              "  </thead>\n",
              "  <tbody>\n",
              "    <tr>\n",
              "      <th>0</th>\n",
              "      <td>False</td>\n",
              "      <td>False</td>\n",
              "      <td>False</td>\n",
              "      <td>False</td>\n",
              "      <td>False</td>\n",
              "      <td>False</td>\n",
              "      <td>False</td>\n",
              "      <td>False</td>\n",
              "    </tr>\n",
              "    <tr>\n",
              "      <th>1</th>\n",
              "      <td>False</td>\n",
              "      <td>False</td>\n",
              "      <td>False</td>\n",
              "      <td>False</td>\n",
              "      <td>False</td>\n",
              "      <td>False</td>\n",
              "      <td>False</td>\n",
              "      <td>False</td>\n",
              "    </tr>\n",
              "    <tr>\n",
              "      <th>2</th>\n",
              "      <td>False</td>\n",
              "      <td>False</td>\n",
              "      <td>False</td>\n",
              "      <td>False</td>\n",
              "      <td>False</td>\n",
              "      <td>False</td>\n",
              "      <td>False</td>\n",
              "      <td>False</td>\n",
              "    </tr>\n",
              "    <tr>\n",
              "      <th>3</th>\n",
              "      <td>False</td>\n",
              "      <td>False</td>\n",
              "      <td>False</td>\n",
              "      <td>False</td>\n",
              "      <td>False</td>\n",
              "      <td>False</td>\n",
              "      <td>False</td>\n",
              "      <td>False</td>\n",
              "    </tr>\n",
              "    <tr>\n",
              "      <th>4</th>\n",
              "      <td>False</td>\n",
              "      <td>False</td>\n",
              "      <td>False</td>\n",
              "      <td>False</td>\n",
              "      <td>False</td>\n",
              "      <td>False</td>\n",
              "      <td>False</td>\n",
              "      <td>False</td>\n",
              "    </tr>\n",
              "    <tr>\n",
              "      <th>...</th>\n",
              "      <td>...</td>\n",
              "      <td>...</td>\n",
              "      <td>...</td>\n",
              "      <td>...</td>\n",
              "      <td>...</td>\n",
              "      <td>...</td>\n",
              "      <td>...</td>\n",
              "      <td>...</td>\n",
              "    </tr>\n",
              "    <tr>\n",
              "      <th>229902</th>\n",
              "      <td>False</td>\n",
              "      <td>False</td>\n",
              "      <td>False</td>\n",
              "      <td>False</td>\n",
              "      <td>False</td>\n",
              "      <td>False</td>\n",
              "      <td>False</td>\n",
              "      <td>False</td>\n",
              "    </tr>\n",
              "    <tr>\n",
              "      <th>229903</th>\n",
              "      <td>False</td>\n",
              "      <td>False</td>\n",
              "      <td>False</td>\n",
              "      <td>False</td>\n",
              "      <td>False</td>\n",
              "      <td>False</td>\n",
              "      <td>False</td>\n",
              "      <td>False</td>\n",
              "    </tr>\n",
              "    <tr>\n",
              "      <th>229904</th>\n",
              "      <td>False</td>\n",
              "      <td>False</td>\n",
              "      <td>False</td>\n",
              "      <td>False</td>\n",
              "      <td>False</td>\n",
              "      <td>False</td>\n",
              "      <td>False</td>\n",
              "      <td>False</td>\n",
              "    </tr>\n",
              "    <tr>\n",
              "      <th>229905</th>\n",
              "      <td>False</td>\n",
              "      <td>False</td>\n",
              "      <td>False</td>\n",
              "      <td>False</td>\n",
              "      <td>False</td>\n",
              "      <td>False</td>\n",
              "      <td>False</td>\n",
              "      <td>False</td>\n",
              "    </tr>\n",
              "    <tr>\n",
              "      <th>229906</th>\n",
              "      <td>False</td>\n",
              "      <td>False</td>\n",
              "      <td>False</td>\n",
              "      <td>False</td>\n",
              "      <td>False</td>\n",
              "      <td>False</td>\n",
              "      <td>False</td>\n",
              "      <td>False</td>\n",
              "    </tr>\n",
              "  </tbody>\n",
              "</table>\n",
              "<p>229907 rows × 8 columns</p>\n",
              "</div>\n",
              "      <button class=\"colab-df-convert\" onclick=\"convertToInteractive('df-5a46246b-615f-473d-9d6a-cb7bc2ffbaac')\"\n",
              "              title=\"Convert this dataframe to an interactive table.\"\n",
              "              style=\"display:none;\">\n",
              "        \n",
              "  <svg xmlns=\"http://www.w3.org/2000/svg\" height=\"24px\"viewBox=\"0 0 24 24\"\n",
              "       width=\"24px\">\n",
              "    <path d=\"M0 0h24v24H0V0z\" fill=\"none\"/>\n",
              "    <path d=\"M18.56 5.44l.94 2.06.94-2.06 2.06-.94-2.06-.94-.94-2.06-.94 2.06-2.06.94zm-11 1L8.5 8.5l.94-2.06 2.06-.94-2.06-.94L8.5 2.5l-.94 2.06-2.06.94zm10 10l.94 2.06.94-2.06 2.06-.94-2.06-.94-.94-2.06-.94 2.06-2.06.94z\"/><path d=\"M17.41 7.96l-1.37-1.37c-.4-.4-.92-.59-1.43-.59-.52 0-1.04.2-1.43.59L10.3 9.45l-7.72 7.72c-.78.78-.78 2.05 0 2.83L4 21.41c.39.39.9.59 1.41.59.51 0 1.02-.2 1.41-.59l7.78-7.78 2.81-2.81c.8-.78.8-2.07 0-2.86zM5.41 20L4 18.59l7.72-7.72 1.47 1.35L5.41 20z\"/>\n",
              "  </svg>\n",
              "      </button>\n",
              "      \n",
              "  <style>\n",
              "    .colab-df-container {\n",
              "      display:flex;\n",
              "      flex-wrap:wrap;\n",
              "      gap: 12px;\n",
              "    }\n",
              "\n",
              "    .colab-df-convert {\n",
              "      background-color: #E8F0FE;\n",
              "      border: none;\n",
              "      border-radius: 50%;\n",
              "      cursor: pointer;\n",
              "      display: none;\n",
              "      fill: #1967D2;\n",
              "      height: 32px;\n",
              "      padding: 0 0 0 0;\n",
              "      width: 32px;\n",
              "    }\n",
              "\n",
              "    .colab-df-convert:hover {\n",
              "      background-color: #E2EBFA;\n",
              "      box-shadow: 0px 1px 2px rgba(60, 64, 67, 0.3), 0px 1px 3px 1px rgba(60, 64, 67, 0.15);\n",
              "      fill: #174EA6;\n",
              "    }\n",
              "\n",
              "    [theme=dark] .colab-df-convert {\n",
              "      background-color: #3B4455;\n",
              "      fill: #D2E3FC;\n",
              "    }\n",
              "\n",
              "    [theme=dark] .colab-df-convert:hover {\n",
              "      background-color: #434B5C;\n",
              "      box-shadow: 0px 1px 3px 1px rgba(0, 0, 0, 0.15);\n",
              "      filter: drop-shadow(0px 1px 2px rgba(0, 0, 0, 0.3));\n",
              "      fill: #FFFFFF;\n",
              "    }\n",
              "  </style>\n",
              "\n",
              "      <script>\n",
              "        const buttonEl =\n",
              "          document.querySelector('#df-5a46246b-615f-473d-9d6a-cb7bc2ffbaac button.colab-df-convert');\n",
              "        buttonEl.style.display =\n",
              "          google.colab.kernel.accessAllowed ? 'block' : 'none';\n",
              "\n",
              "        async function convertToInteractive(key) {\n",
              "          const element = document.querySelector('#df-5a46246b-615f-473d-9d6a-cb7bc2ffbaac');\n",
              "          const dataTable =\n",
              "            await google.colab.kernel.invokeFunction('convertToInteractive',\n",
              "                                                     [key], {});\n",
              "          if (!dataTable) return;\n",
              "\n",
              "          const docLinkHtml = 'Like what you see? Visit the ' +\n",
              "            '<a target=\"_blank\" href=https://colab.research.google.com/notebooks/data_table.ipynb>data table notebook</a>'\n",
              "            + ' to learn more about interactive tables.';\n",
              "          element.innerHTML = '';\n",
              "          dataTable['output_type'] = 'display_data';\n",
              "          await google.colab.output.renderOutput(dataTable, element);\n",
              "          const docLink = document.createElement('div');\n",
              "          docLink.innerHTML = docLinkHtml;\n",
              "          element.appendChild(docLink);\n",
              "        }\n",
              "      </script>\n",
              "    </div>\n",
              "  </div>\n",
              "  "
            ]
          },
          "metadata": {},
          "execution_count": 22
        }
      ]
    },
    {
      "cell_type": "code",
      "source": [
        "data.notnull()"
      ],
      "metadata": {
        "colab": {
          "base_uri": "https://localhost:8080/",
          "height": 423
        },
        "id": "IxX3qaN0H-_3",
        "outputId": "d595a95d-1574-4192-e77d-a50eb83b1821"
      },
      "execution_count": null,
      "outputs": [
        {
          "output_type": "execute_result",
          "data": {
            "text/plain": [
              "        business_categories  business_city  business_id  date  stars  text  \\\n",
              "0                      True           True         True  True   True  True   \n",
              "1                      True           True         True  True   True  True   \n",
              "2                      True           True         True  True   True  True   \n",
              "3                      True           True         True  True   True  True   \n",
              "4                      True           True         True  True   True  True   \n",
              "...                     ...            ...          ...   ...    ...   ...   \n",
              "229902                 True           True         True  True   True  True   \n",
              "229903                 True           True         True  True   True  True   \n",
              "229904                 True           True         True  True   True  True   \n",
              "229905                 True           True         True  True   True  True   \n",
              "229906                 True           True         True  True   True  True   \n",
              "\n",
              "        useful  user_id  \n",
              "0         True     True  \n",
              "1         True     True  \n",
              "2         True     True  \n",
              "3         True     True  \n",
              "4         True     True  \n",
              "...        ...      ...  \n",
              "229902    True     True  \n",
              "229903    True     True  \n",
              "229904    True     True  \n",
              "229905    True     True  \n",
              "229906    True     True  \n",
              "\n",
              "[229907 rows x 8 columns]"
            ],
            "text/html": [
              "\n",
              "  <div id=\"df-ea27e61e-38ee-4ee4-8293-c57f62044a7a\">\n",
              "    <div class=\"colab-df-container\">\n",
              "      <div>\n",
              "<style scoped>\n",
              "    .dataframe tbody tr th:only-of-type {\n",
              "        vertical-align: middle;\n",
              "    }\n",
              "\n",
              "    .dataframe tbody tr th {\n",
              "        vertical-align: top;\n",
              "    }\n",
              "\n",
              "    .dataframe thead th {\n",
              "        text-align: right;\n",
              "    }\n",
              "</style>\n",
              "<table border=\"1\" class=\"dataframe\">\n",
              "  <thead>\n",
              "    <tr style=\"text-align: right;\">\n",
              "      <th></th>\n",
              "      <th>business_categories</th>\n",
              "      <th>business_city</th>\n",
              "      <th>business_id</th>\n",
              "      <th>date</th>\n",
              "      <th>stars</th>\n",
              "      <th>text</th>\n",
              "      <th>useful</th>\n",
              "      <th>user_id</th>\n",
              "    </tr>\n",
              "  </thead>\n",
              "  <tbody>\n",
              "    <tr>\n",
              "      <th>0</th>\n",
              "      <td>True</td>\n",
              "      <td>True</td>\n",
              "      <td>True</td>\n",
              "      <td>True</td>\n",
              "      <td>True</td>\n",
              "      <td>True</td>\n",
              "      <td>True</td>\n",
              "      <td>True</td>\n",
              "    </tr>\n",
              "    <tr>\n",
              "      <th>1</th>\n",
              "      <td>True</td>\n",
              "      <td>True</td>\n",
              "      <td>True</td>\n",
              "      <td>True</td>\n",
              "      <td>True</td>\n",
              "      <td>True</td>\n",
              "      <td>True</td>\n",
              "      <td>True</td>\n",
              "    </tr>\n",
              "    <tr>\n",
              "      <th>2</th>\n",
              "      <td>True</td>\n",
              "      <td>True</td>\n",
              "      <td>True</td>\n",
              "      <td>True</td>\n",
              "      <td>True</td>\n",
              "      <td>True</td>\n",
              "      <td>True</td>\n",
              "      <td>True</td>\n",
              "    </tr>\n",
              "    <tr>\n",
              "      <th>3</th>\n",
              "      <td>True</td>\n",
              "      <td>True</td>\n",
              "      <td>True</td>\n",
              "      <td>True</td>\n",
              "      <td>True</td>\n",
              "      <td>True</td>\n",
              "      <td>True</td>\n",
              "      <td>True</td>\n",
              "    </tr>\n",
              "    <tr>\n",
              "      <th>4</th>\n",
              "      <td>True</td>\n",
              "      <td>True</td>\n",
              "      <td>True</td>\n",
              "      <td>True</td>\n",
              "      <td>True</td>\n",
              "      <td>True</td>\n",
              "      <td>True</td>\n",
              "      <td>True</td>\n",
              "    </tr>\n",
              "    <tr>\n",
              "      <th>...</th>\n",
              "      <td>...</td>\n",
              "      <td>...</td>\n",
              "      <td>...</td>\n",
              "      <td>...</td>\n",
              "      <td>...</td>\n",
              "      <td>...</td>\n",
              "      <td>...</td>\n",
              "      <td>...</td>\n",
              "    </tr>\n",
              "    <tr>\n",
              "      <th>229902</th>\n",
              "      <td>True</td>\n",
              "      <td>True</td>\n",
              "      <td>True</td>\n",
              "      <td>True</td>\n",
              "      <td>True</td>\n",
              "      <td>True</td>\n",
              "      <td>True</td>\n",
              "      <td>True</td>\n",
              "    </tr>\n",
              "    <tr>\n",
              "      <th>229903</th>\n",
              "      <td>True</td>\n",
              "      <td>True</td>\n",
              "      <td>True</td>\n",
              "      <td>True</td>\n",
              "      <td>True</td>\n",
              "      <td>True</td>\n",
              "      <td>True</td>\n",
              "      <td>True</td>\n",
              "    </tr>\n",
              "    <tr>\n",
              "      <th>229904</th>\n",
              "      <td>True</td>\n",
              "      <td>True</td>\n",
              "      <td>True</td>\n",
              "      <td>True</td>\n",
              "      <td>True</td>\n",
              "      <td>True</td>\n",
              "      <td>True</td>\n",
              "      <td>True</td>\n",
              "    </tr>\n",
              "    <tr>\n",
              "      <th>229905</th>\n",
              "      <td>True</td>\n",
              "      <td>True</td>\n",
              "      <td>True</td>\n",
              "      <td>True</td>\n",
              "      <td>True</td>\n",
              "      <td>True</td>\n",
              "      <td>True</td>\n",
              "      <td>True</td>\n",
              "    </tr>\n",
              "    <tr>\n",
              "      <th>229906</th>\n",
              "      <td>True</td>\n",
              "      <td>True</td>\n",
              "      <td>True</td>\n",
              "      <td>True</td>\n",
              "      <td>True</td>\n",
              "      <td>True</td>\n",
              "      <td>True</td>\n",
              "      <td>True</td>\n",
              "    </tr>\n",
              "  </tbody>\n",
              "</table>\n",
              "<p>229907 rows × 8 columns</p>\n",
              "</div>\n",
              "      <button class=\"colab-df-convert\" onclick=\"convertToInteractive('df-ea27e61e-38ee-4ee4-8293-c57f62044a7a')\"\n",
              "              title=\"Convert this dataframe to an interactive table.\"\n",
              "              style=\"display:none;\">\n",
              "        \n",
              "  <svg xmlns=\"http://www.w3.org/2000/svg\" height=\"24px\"viewBox=\"0 0 24 24\"\n",
              "       width=\"24px\">\n",
              "    <path d=\"M0 0h24v24H0V0z\" fill=\"none\"/>\n",
              "    <path d=\"M18.56 5.44l.94 2.06.94-2.06 2.06-.94-2.06-.94-.94-2.06-.94 2.06-2.06.94zm-11 1L8.5 8.5l.94-2.06 2.06-.94-2.06-.94L8.5 2.5l-.94 2.06-2.06.94zm10 10l.94 2.06.94-2.06 2.06-.94-2.06-.94-.94-2.06-.94 2.06-2.06.94z\"/><path d=\"M17.41 7.96l-1.37-1.37c-.4-.4-.92-.59-1.43-.59-.52 0-1.04.2-1.43.59L10.3 9.45l-7.72 7.72c-.78.78-.78 2.05 0 2.83L4 21.41c.39.39.9.59 1.41.59.51 0 1.02-.2 1.41-.59l7.78-7.78 2.81-2.81c.8-.78.8-2.07 0-2.86zM5.41 20L4 18.59l7.72-7.72 1.47 1.35L5.41 20z\"/>\n",
              "  </svg>\n",
              "      </button>\n",
              "      \n",
              "  <style>\n",
              "    .colab-df-container {\n",
              "      display:flex;\n",
              "      flex-wrap:wrap;\n",
              "      gap: 12px;\n",
              "    }\n",
              "\n",
              "    .colab-df-convert {\n",
              "      background-color: #E8F0FE;\n",
              "      border: none;\n",
              "      border-radius: 50%;\n",
              "      cursor: pointer;\n",
              "      display: none;\n",
              "      fill: #1967D2;\n",
              "      height: 32px;\n",
              "      padding: 0 0 0 0;\n",
              "      width: 32px;\n",
              "    }\n",
              "\n",
              "    .colab-df-convert:hover {\n",
              "      background-color: #E2EBFA;\n",
              "      box-shadow: 0px 1px 2px rgba(60, 64, 67, 0.3), 0px 1px 3px 1px rgba(60, 64, 67, 0.15);\n",
              "      fill: #174EA6;\n",
              "    }\n",
              "\n",
              "    [theme=dark] .colab-df-convert {\n",
              "      background-color: #3B4455;\n",
              "      fill: #D2E3FC;\n",
              "    }\n",
              "\n",
              "    [theme=dark] .colab-df-convert:hover {\n",
              "      background-color: #434B5C;\n",
              "      box-shadow: 0px 1px 3px 1px rgba(0, 0, 0, 0.15);\n",
              "      filter: drop-shadow(0px 1px 2px rgba(0, 0, 0, 0.3));\n",
              "      fill: #FFFFFF;\n",
              "    }\n",
              "  </style>\n",
              "\n",
              "      <script>\n",
              "        const buttonEl =\n",
              "          document.querySelector('#df-ea27e61e-38ee-4ee4-8293-c57f62044a7a button.colab-df-convert');\n",
              "        buttonEl.style.display =\n",
              "          google.colab.kernel.accessAllowed ? 'block' : 'none';\n",
              "\n",
              "        async function convertToInteractive(key) {\n",
              "          const element = document.querySelector('#df-ea27e61e-38ee-4ee4-8293-c57f62044a7a');\n",
              "          const dataTable =\n",
              "            await google.colab.kernel.invokeFunction('convertToInteractive',\n",
              "                                                     [key], {});\n",
              "          if (!dataTable) return;\n",
              "\n",
              "          const docLinkHtml = 'Like what you see? Visit the ' +\n",
              "            '<a target=\"_blank\" href=https://colab.research.google.com/notebooks/data_table.ipynb>data table notebook</a>'\n",
              "            + ' to learn more about interactive tables.';\n",
              "          element.innerHTML = '';\n",
              "          dataTable['output_type'] = 'display_data';\n",
              "          await google.colab.output.renderOutput(dataTable, element);\n",
              "          const docLink = document.createElement('div');\n",
              "          docLink.innerHTML = docLinkHtml;\n",
              "          element.appendChild(docLink);\n",
              "        }\n",
              "      </script>\n",
              "    </div>\n",
              "  </div>\n",
              "  "
            ]
          },
          "metadata": {},
          "execution_count": 23
        }
      ]
    },
    {
      "cell_type": "code",
      "source": [
        "data.fillna(0)"
      ],
      "metadata": {
        "colab": {
          "base_uri": "https://localhost:8080/",
          "height": 797
        },
        "id": "FgShcQmZIkMh",
        "outputId": "d9466372-9fbc-4cc3-d83c-c69bf892dfe3"
      },
      "execution_count": null,
      "outputs": [
        {
          "output_type": "execute_result",
          "data": {
            "text/plain": [
              "                                      business_categories business_city  \\\n",
              "0                         Breakfast & Brunch; Restaurants       Phoenix   \n",
              "1                             Italian; Pizza; Restaurants       Phoenix   \n",
              "2                             Middle Eastern; Restaurants         Tempe   \n",
              "3                           Active Life; Dog Parks; Parks    Scottsdale   \n",
              "4                                       Tires; Automotive          Mesa   \n",
              "...                                                   ...           ...   \n",
              "229902                            Gastropubs; Restaurants         Tempe   \n",
              "229903  Hotels & Travel; Event Planning & Services; Ho...        Peoria   \n",
              "229904  Pubs; Bars; American (Traditional); Nightlife;...         Tempe   \n",
              "229905     Wine Bars; Bars; Pizza; Nightlife; Restaurants         Tempe   \n",
              "229906                  Churches; Religious Organizations       Phoenix   \n",
              "\n",
              "                   business_id        date  stars  \\\n",
              "0       9yKzy9PApeiPPOUJEtnvkg  26/01/2011      5   \n",
              "1       ZRJwVLyzEJq1VAihDhYiow  27/07/2011      5   \n",
              "2       6oRAC4uyJCsJl1X0WZpVSA  14/06/2012      4   \n",
              "3       _1QQZuf4zZOyFCvXc0o6Vg  27/05/2010      5   \n",
              "4       6ozycU1RpktNG2-1BroVtw  05/01/2012      5   \n",
              "...                        ...         ...    ...   \n",
              "229902  vnffHkFJbmd-J3OaBbK2Eg  14/04/2011      2   \n",
              "229903  l5oUrgQ190l8CcN8uzd_pA  23/01/2011      1   \n",
              "229904                  #NAME?  11/10/2010      4   \n",
              "229905  YQvg0JCGRFUkb6reMMf3Iw  18/01/2011      3   \n",
              "229906  gKxOZvQTTd5hpFa3r5igGQ  14/08/2010      5   \n",
              "\n",
              "                                                     text  useful  \\\n",
              "0       My wife took me here on my birthday for breakf...       5   \n",
              "1       I have no idea why some people give bad review...       0   \n",
              "2       love the gyro plate. Rice is so good and I als...       1   \n",
              "3       Rosie, Dakota, and I LOVE Chaparral Dog Park!!...       2   \n",
              "4       General Manager Scott Petello is a good egg!!!...       0   \n",
              "...                                                   ...     ...   \n",
              "229902  I really wanted to like this place because it'...       0   \n",
              "229903  My husband I stayed here for two nights.  Of c...       2   \n",
              "229904  Cool atmosphere. A lot of beers on tap and goo...       0   \n",
              "229905  I have to take a star off for the spotty servi...       2   \n",
              "229906                                       So cool, yo.       0   \n",
              "\n",
              "                       user_id  \n",
              "0       rLtl8ZkDX5vH5nAx9C3q5Q  \n",
              "1       0a2KyEL0d3Yb1V6aivbIuQ  \n",
              "2       0hT2KtfLiobPvh6cDC8JQg  \n",
              "3       uZetl9T0NcROGOyFfughhg  \n",
              "4       vYmM4KTsC8ZfQBg-j5MWkw  \n",
              "...                        ...  \n",
              "229902  6e7pZofhDuIlD_rX2oYirQ  \n",
              "229903  dDNfSFT0VApxPmURclX6_g  \n",
              "229904  M5wHt6Odh1k5v0tIjqd8DQ  \n",
              "229905  jopndPrv-H5KW2CfScnw9A  \n",
              "229906  mbRUG6h0Mgb2XIJvscIoMg  \n",
              "\n",
              "[229907 rows x 8 columns]"
            ],
            "text/html": [
              "\n",
              "  <div id=\"df-97cb4f44-e128-4162-aa5b-b77766a14935\">\n",
              "    <div class=\"colab-df-container\">\n",
              "      <div>\n",
              "<style scoped>\n",
              "    .dataframe tbody tr th:only-of-type {\n",
              "        vertical-align: middle;\n",
              "    }\n",
              "\n",
              "    .dataframe tbody tr th {\n",
              "        vertical-align: top;\n",
              "    }\n",
              "\n",
              "    .dataframe thead th {\n",
              "        text-align: right;\n",
              "    }\n",
              "</style>\n",
              "<table border=\"1\" class=\"dataframe\">\n",
              "  <thead>\n",
              "    <tr style=\"text-align: right;\">\n",
              "      <th></th>\n",
              "      <th>business_categories</th>\n",
              "      <th>business_city</th>\n",
              "      <th>business_id</th>\n",
              "      <th>date</th>\n",
              "      <th>stars</th>\n",
              "      <th>text</th>\n",
              "      <th>useful</th>\n",
              "      <th>user_id</th>\n",
              "    </tr>\n",
              "  </thead>\n",
              "  <tbody>\n",
              "    <tr>\n",
              "      <th>0</th>\n",
              "      <td>Breakfast &amp; Brunch; Restaurants</td>\n",
              "      <td>Phoenix</td>\n",
              "      <td>9yKzy9PApeiPPOUJEtnvkg</td>\n",
              "      <td>26/01/2011</td>\n",
              "      <td>5</td>\n",
              "      <td>My wife took me here on my birthday for breakf...</td>\n",
              "      <td>5</td>\n",
              "      <td>rLtl8ZkDX5vH5nAx9C3q5Q</td>\n",
              "    </tr>\n",
              "    <tr>\n",
              "      <th>1</th>\n",
              "      <td>Italian; Pizza; Restaurants</td>\n",
              "      <td>Phoenix</td>\n",
              "      <td>ZRJwVLyzEJq1VAihDhYiow</td>\n",
              "      <td>27/07/2011</td>\n",
              "      <td>5</td>\n",
              "      <td>I have no idea why some people give bad review...</td>\n",
              "      <td>0</td>\n",
              "      <td>0a2KyEL0d3Yb1V6aivbIuQ</td>\n",
              "    </tr>\n",
              "    <tr>\n",
              "      <th>2</th>\n",
              "      <td>Middle Eastern; Restaurants</td>\n",
              "      <td>Tempe</td>\n",
              "      <td>6oRAC4uyJCsJl1X0WZpVSA</td>\n",
              "      <td>14/06/2012</td>\n",
              "      <td>4</td>\n",
              "      <td>love the gyro plate. Rice is so good and I als...</td>\n",
              "      <td>1</td>\n",
              "      <td>0hT2KtfLiobPvh6cDC8JQg</td>\n",
              "    </tr>\n",
              "    <tr>\n",
              "      <th>3</th>\n",
              "      <td>Active Life; Dog Parks; Parks</td>\n",
              "      <td>Scottsdale</td>\n",
              "      <td>_1QQZuf4zZOyFCvXc0o6Vg</td>\n",
              "      <td>27/05/2010</td>\n",
              "      <td>5</td>\n",
              "      <td>Rosie, Dakota, and I LOVE Chaparral Dog Park!!...</td>\n",
              "      <td>2</td>\n",
              "      <td>uZetl9T0NcROGOyFfughhg</td>\n",
              "    </tr>\n",
              "    <tr>\n",
              "      <th>4</th>\n",
              "      <td>Tires; Automotive</td>\n",
              "      <td>Mesa</td>\n",
              "      <td>6ozycU1RpktNG2-1BroVtw</td>\n",
              "      <td>05/01/2012</td>\n",
              "      <td>5</td>\n",
              "      <td>General Manager Scott Petello is a good egg!!!...</td>\n",
              "      <td>0</td>\n",
              "      <td>vYmM4KTsC8ZfQBg-j5MWkw</td>\n",
              "    </tr>\n",
              "    <tr>\n",
              "      <th>...</th>\n",
              "      <td>...</td>\n",
              "      <td>...</td>\n",
              "      <td>...</td>\n",
              "      <td>...</td>\n",
              "      <td>...</td>\n",
              "      <td>...</td>\n",
              "      <td>...</td>\n",
              "      <td>...</td>\n",
              "    </tr>\n",
              "    <tr>\n",
              "      <th>229902</th>\n",
              "      <td>Gastropubs; Restaurants</td>\n",
              "      <td>Tempe</td>\n",
              "      <td>vnffHkFJbmd-J3OaBbK2Eg</td>\n",
              "      <td>14/04/2011</td>\n",
              "      <td>2</td>\n",
              "      <td>I really wanted to like this place because it'...</td>\n",
              "      <td>0</td>\n",
              "      <td>6e7pZofhDuIlD_rX2oYirQ</td>\n",
              "    </tr>\n",
              "    <tr>\n",
              "      <th>229903</th>\n",
              "      <td>Hotels &amp; Travel; Event Planning &amp; Services; Ho...</td>\n",
              "      <td>Peoria</td>\n",
              "      <td>l5oUrgQ190l8CcN8uzd_pA</td>\n",
              "      <td>23/01/2011</td>\n",
              "      <td>1</td>\n",
              "      <td>My husband I stayed here for two nights.  Of c...</td>\n",
              "      <td>2</td>\n",
              "      <td>dDNfSFT0VApxPmURclX6_g</td>\n",
              "    </tr>\n",
              "    <tr>\n",
              "      <th>229904</th>\n",
              "      <td>Pubs; Bars; American (Traditional); Nightlife;...</td>\n",
              "      <td>Tempe</td>\n",
              "      <td>#NAME?</td>\n",
              "      <td>11/10/2010</td>\n",
              "      <td>4</td>\n",
              "      <td>Cool atmosphere. A lot of beers on tap and goo...</td>\n",
              "      <td>0</td>\n",
              "      <td>M5wHt6Odh1k5v0tIjqd8DQ</td>\n",
              "    </tr>\n",
              "    <tr>\n",
              "      <th>229905</th>\n",
              "      <td>Wine Bars; Bars; Pizza; Nightlife; Restaurants</td>\n",
              "      <td>Tempe</td>\n",
              "      <td>YQvg0JCGRFUkb6reMMf3Iw</td>\n",
              "      <td>18/01/2011</td>\n",
              "      <td>3</td>\n",
              "      <td>I have to take a star off for the spotty servi...</td>\n",
              "      <td>2</td>\n",
              "      <td>jopndPrv-H5KW2CfScnw9A</td>\n",
              "    </tr>\n",
              "    <tr>\n",
              "      <th>229906</th>\n",
              "      <td>Churches; Religious Organizations</td>\n",
              "      <td>Phoenix</td>\n",
              "      <td>gKxOZvQTTd5hpFa3r5igGQ</td>\n",
              "      <td>14/08/2010</td>\n",
              "      <td>5</td>\n",
              "      <td>So cool, yo.</td>\n",
              "      <td>0</td>\n",
              "      <td>mbRUG6h0Mgb2XIJvscIoMg</td>\n",
              "    </tr>\n",
              "  </tbody>\n",
              "</table>\n",
              "<p>229907 rows × 8 columns</p>\n",
              "</div>\n",
              "      <button class=\"colab-df-convert\" onclick=\"convertToInteractive('df-97cb4f44-e128-4162-aa5b-b77766a14935')\"\n",
              "              title=\"Convert this dataframe to an interactive table.\"\n",
              "              style=\"display:none;\">\n",
              "        \n",
              "  <svg xmlns=\"http://www.w3.org/2000/svg\" height=\"24px\"viewBox=\"0 0 24 24\"\n",
              "       width=\"24px\">\n",
              "    <path d=\"M0 0h24v24H0V0z\" fill=\"none\"/>\n",
              "    <path d=\"M18.56 5.44l.94 2.06.94-2.06 2.06-.94-2.06-.94-.94-2.06-.94 2.06-2.06.94zm-11 1L8.5 8.5l.94-2.06 2.06-.94-2.06-.94L8.5 2.5l-.94 2.06-2.06.94zm10 10l.94 2.06.94-2.06 2.06-.94-2.06-.94-.94-2.06-.94 2.06-2.06.94z\"/><path d=\"M17.41 7.96l-1.37-1.37c-.4-.4-.92-.59-1.43-.59-.52 0-1.04.2-1.43.59L10.3 9.45l-7.72 7.72c-.78.78-.78 2.05 0 2.83L4 21.41c.39.39.9.59 1.41.59.51 0 1.02-.2 1.41-.59l7.78-7.78 2.81-2.81c.8-.78.8-2.07 0-2.86zM5.41 20L4 18.59l7.72-7.72 1.47 1.35L5.41 20z\"/>\n",
              "  </svg>\n",
              "      </button>\n",
              "      \n",
              "  <style>\n",
              "    .colab-df-container {\n",
              "      display:flex;\n",
              "      flex-wrap:wrap;\n",
              "      gap: 12px;\n",
              "    }\n",
              "\n",
              "    .colab-df-convert {\n",
              "      background-color: #E8F0FE;\n",
              "      border: none;\n",
              "      border-radius: 50%;\n",
              "      cursor: pointer;\n",
              "      display: none;\n",
              "      fill: #1967D2;\n",
              "      height: 32px;\n",
              "      padding: 0 0 0 0;\n",
              "      width: 32px;\n",
              "    }\n",
              "\n",
              "    .colab-df-convert:hover {\n",
              "      background-color: #E2EBFA;\n",
              "      box-shadow: 0px 1px 2px rgba(60, 64, 67, 0.3), 0px 1px 3px 1px rgba(60, 64, 67, 0.15);\n",
              "      fill: #174EA6;\n",
              "    }\n",
              "\n",
              "    [theme=dark] .colab-df-convert {\n",
              "      background-color: #3B4455;\n",
              "      fill: #D2E3FC;\n",
              "    }\n",
              "\n",
              "    [theme=dark] .colab-df-convert:hover {\n",
              "      background-color: #434B5C;\n",
              "      box-shadow: 0px 1px 3px 1px rgba(0, 0, 0, 0.15);\n",
              "      filter: drop-shadow(0px 1px 2px rgba(0, 0, 0, 0.3));\n",
              "      fill: #FFFFFF;\n",
              "    }\n",
              "  </style>\n",
              "\n",
              "      <script>\n",
              "        const buttonEl =\n",
              "          document.querySelector('#df-97cb4f44-e128-4162-aa5b-b77766a14935 button.colab-df-convert');\n",
              "        buttonEl.style.display =\n",
              "          google.colab.kernel.accessAllowed ? 'block' : 'none';\n",
              "\n",
              "        async function convertToInteractive(key) {\n",
              "          const element = document.querySelector('#df-97cb4f44-e128-4162-aa5b-b77766a14935');\n",
              "          const dataTable =\n",
              "            await google.colab.kernel.invokeFunction('convertToInteractive',\n",
              "                                                     [key], {});\n",
              "          if (!dataTable) return;\n",
              "\n",
              "          const docLinkHtml = 'Like what you see? Visit the ' +\n",
              "            '<a target=\"_blank\" href=https://colab.research.google.com/notebooks/data_table.ipynb>data table notebook</a>'\n",
              "            + ' to learn more about interactive tables.';\n",
              "          element.innerHTML = '';\n",
              "          dataTable['output_type'] = 'display_data';\n",
              "          await google.colab.output.renderOutput(dataTable, element);\n",
              "          const docLink = document.createElement('div');\n",
              "          docLink.innerHTML = docLinkHtml;\n",
              "          element.appendChild(docLink);\n",
              "        }\n",
              "      </script>\n",
              "    </div>\n",
              "  </div>\n",
              "  "
            ]
          },
          "metadata": {},
          "execution_count": 24
        }
      ]
    },
    {
      "cell_type": "code",
      "source": [
        "print(data[['business_id','user_id']])"
      ],
      "metadata": {
        "colab": {
          "base_uri": "https://localhost:8080/"
        },
        "id": "Ko2RMi_eIran",
        "outputId": "f113f1a3-cfb6-4c26-b1e1-adb8076dbb81"
      },
      "execution_count": null,
      "outputs": [
        {
          "output_type": "stream",
          "name": "stdout",
          "text": [
            "                   business_id                 user_id\n",
            "0       9yKzy9PApeiPPOUJEtnvkg  rLtl8ZkDX5vH5nAx9C3q5Q\n",
            "1       ZRJwVLyzEJq1VAihDhYiow  0a2KyEL0d3Yb1V6aivbIuQ\n",
            "2       6oRAC4uyJCsJl1X0WZpVSA  0hT2KtfLiobPvh6cDC8JQg\n",
            "3       _1QQZuf4zZOyFCvXc0o6Vg  uZetl9T0NcROGOyFfughhg\n",
            "4       6ozycU1RpktNG2-1BroVtw  vYmM4KTsC8ZfQBg-j5MWkw\n",
            "...                        ...                     ...\n",
            "229902  vnffHkFJbmd-J3OaBbK2Eg  6e7pZofhDuIlD_rX2oYirQ\n",
            "229903  l5oUrgQ190l8CcN8uzd_pA  dDNfSFT0VApxPmURclX6_g\n",
            "229904                  #NAME?  M5wHt6Odh1k5v0tIjqd8DQ\n",
            "229905  YQvg0JCGRFUkb6reMMf3Iw  jopndPrv-H5KW2CfScnw9A\n",
            "229906  gKxOZvQTTd5hpFa3r5igGQ  mbRUG6h0Mgb2XIJvscIoMg\n",
            "\n",
            "[229907 rows x 2 columns]\n"
          ]
        }
      ]
    },
    {
      "cell_type": "code",
      "source": [
        "print(\"Length of Data : \", len(data))"
      ],
      "metadata": {
        "colab": {
          "base_uri": "https://localhost:8080/"
        },
        "id": "vFguBYOuI5yQ",
        "outputId": "a4383d74-17bb-4a45-ad9f-5fa22e0d2b10"
      },
      "execution_count": null,
      "outputs": [
        {
          "output_type": "stream",
          "name": "stdout",
          "text": [
            "Length of Data :  229907\n"
          ]
        }
      ]
    },
    {
      "cell_type": "code",
      "source": [
        "data.dropna()"
      ],
      "metadata": {
        "colab": {
          "base_uri": "https://localhost:8080/",
          "height": 797
        },
        "id": "qYxQHlblJvOI",
        "outputId": "5059d685-d70b-461e-ddc0-d7294c369705"
      },
      "execution_count": null,
      "outputs": [
        {
          "output_type": "execute_result",
          "data": {
            "text/plain": [
              "                                      business_categories business_city  \\\n",
              "0                         Breakfast & Brunch; Restaurants       Phoenix   \n",
              "1                             Italian; Pizza; Restaurants       Phoenix   \n",
              "2                             Middle Eastern; Restaurants         Tempe   \n",
              "3                           Active Life; Dog Parks; Parks    Scottsdale   \n",
              "4                                       Tires; Automotive          Mesa   \n",
              "...                                                   ...           ...   \n",
              "229902                            Gastropubs; Restaurants         Tempe   \n",
              "229903  Hotels & Travel; Event Planning & Services; Ho...        Peoria   \n",
              "229904  Pubs; Bars; American (Traditional); Nightlife;...         Tempe   \n",
              "229905     Wine Bars; Bars; Pizza; Nightlife; Restaurants         Tempe   \n",
              "229906                  Churches; Religious Organizations       Phoenix   \n",
              "\n",
              "                   business_id        date  stars  \\\n",
              "0       9yKzy9PApeiPPOUJEtnvkg  26/01/2011      5   \n",
              "1       ZRJwVLyzEJq1VAihDhYiow  27/07/2011      5   \n",
              "2       6oRAC4uyJCsJl1X0WZpVSA  14/06/2012      4   \n",
              "3       _1QQZuf4zZOyFCvXc0o6Vg  27/05/2010      5   \n",
              "4       6ozycU1RpktNG2-1BroVtw  05/01/2012      5   \n",
              "...                        ...         ...    ...   \n",
              "229902  vnffHkFJbmd-J3OaBbK2Eg  14/04/2011      2   \n",
              "229903  l5oUrgQ190l8CcN8uzd_pA  23/01/2011      1   \n",
              "229904                  #NAME?  11/10/2010      4   \n",
              "229905  YQvg0JCGRFUkb6reMMf3Iw  18/01/2011      3   \n",
              "229906  gKxOZvQTTd5hpFa3r5igGQ  14/08/2010      5   \n",
              "\n",
              "                                                     text  useful  \\\n",
              "0       My wife took me here on my birthday for breakf...       5   \n",
              "1       I have no idea why some people give bad review...       0   \n",
              "2       love the gyro plate. Rice is so good and I als...       1   \n",
              "3       Rosie, Dakota, and I LOVE Chaparral Dog Park!!...       2   \n",
              "4       General Manager Scott Petello is a good egg!!!...       0   \n",
              "...                                                   ...     ...   \n",
              "229902  I really wanted to like this place because it'...       0   \n",
              "229903  My husband I stayed here for two nights.  Of c...       2   \n",
              "229904  Cool atmosphere. A lot of beers on tap and goo...       0   \n",
              "229905  I have to take a star off for the spotty servi...       2   \n",
              "229906                                       So cool, yo.       0   \n",
              "\n",
              "                       user_id  \n",
              "0       rLtl8ZkDX5vH5nAx9C3q5Q  \n",
              "1       0a2KyEL0d3Yb1V6aivbIuQ  \n",
              "2       0hT2KtfLiobPvh6cDC8JQg  \n",
              "3       uZetl9T0NcROGOyFfughhg  \n",
              "4       vYmM4KTsC8ZfQBg-j5MWkw  \n",
              "...                        ...  \n",
              "229902  6e7pZofhDuIlD_rX2oYirQ  \n",
              "229903  dDNfSFT0VApxPmURclX6_g  \n",
              "229904  M5wHt6Odh1k5v0tIjqd8DQ  \n",
              "229905  jopndPrv-H5KW2CfScnw9A  \n",
              "229906  mbRUG6h0Mgb2XIJvscIoMg  \n",
              "\n",
              "[229124 rows x 8 columns]"
            ],
            "text/html": [
              "\n",
              "  <div id=\"df-ed1ac61d-7857-41a1-9d77-e5c4ae5b4c3a\">\n",
              "    <div class=\"colab-df-container\">\n",
              "      <div>\n",
              "<style scoped>\n",
              "    .dataframe tbody tr th:only-of-type {\n",
              "        vertical-align: middle;\n",
              "    }\n",
              "\n",
              "    .dataframe tbody tr th {\n",
              "        vertical-align: top;\n",
              "    }\n",
              "\n",
              "    .dataframe thead th {\n",
              "        text-align: right;\n",
              "    }\n",
              "</style>\n",
              "<table border=\"1\" class=\"dataframe\">\n",
              "  <thead>\n",
              "    <tr style=\"text-align: right;\">\n",
              "      <th></th>\n",
              "      <th>business_categories</th>\n",
              "      <th>business_city</th>\n",
              "      <th>business_id</th>\n",
              "      <th>date</th>\n",
              "      <th>stars</th>\n",
              "      <th>text</th>\n",
              "      <th>useful</th>\n",
              "      <th>user_id</th>\n",
              "    </tr>\n",
              "  </thead>\n",
              "  <tbody>\n",
              "    <tr>\n",
              "      <th>0</th>\n",
              "      <td>Breakfast &amp; Brunch; Restaurants</td>\n",
              "      <td>Phoenix</td>\n",
              "      <td>9yKzy9PApeiPPOUJEtnvkg</td>\n",
              "      <td>26/01/2011</td>\n",
              "      <td>5</td>\n",
              "      <td>My wife took me here on my birthday for breakf...</td>\n",
              "      <td>5</td>\n",
              "      <td>rLtl8ZkDX5vH5nAx9C3q5Q</td>\n",
              "    </tr>\n",
              "    <tr>\n",
              "      <th>1</th>\n",
              "      <td>Italian; Pizza; Restaurants</td>\n",
              "      <td>Phoenix</td>\n",
              "      <td>ZRJwVLyzEJq1VAihDhYiow</td>\n",
              "      <td>27/07/2011</td>\n",
              "      <td>5</td>\n",
              "      <td>I have no idea why some people give bad review...</td>\n",
              "      <td>0</td>\n",
              "      <td>0a2KyEL0d3Yb1V6aivbIuQ</td>\n",
              "    </tr>\n",
              "    <tr>\n",
              "      <th>2</th>\n",
              "      <td>Middle Eastern; Restaurants</td>\n",
              "      <td>Tempe</td>\n",
              "      <td>6oRAC4uyJCsJl1X0WZpVSA</td>\n",
              "      <td>14/06/2012</td>\n",
              "      <td>4</td>\n",
              "      <td>love the gyro plate. Rice is so good and I als...</td>\n",
              "      <td>1</td>\n",
              "      <td>0hT2KtfLiobPvh6cDC8JQg</td>\n",
              "    </tr>\n",
              "    <tr>\n",
              "      <th>3</th>\n",
              "      <td>Active Life; Dog Parks; Parks</td>\n",
              "      <td>Scottsdale</td>\n",
              "      <td>_1QQZuf4zZOyFCvXc0o6Vg</td>\n",
              "      <td>27/05/2010</td>\n",
              "      <td>5</td>\n",
              "      <td>Rosie, Dakota, and I LOVE Chaparral Dog Park!!...</td>\n",
              "      <td>2</td>\n",
              "      <td>uZetl9T0NcROGOyFfughhg</td>\n",
              "    </tr>\n",
              "    <tr>\n",
              "      <th>4</th>\n",
              "      <td>Tires; Automotive</td>\n",
              "      <td>Mesa</td>\n",
              "      <td>6ozycU1RpktNG2-1BroVtw</td>\n",
              "      <td>05/01/2012</td>\n",
              "      <td>5</td>\n",
              "      <td>General Manager Scott Petello is a good egg!!!...</td>\n",
              "      <td>0</td>\n",
              "      <td>vYmM4KTsC8ZfQBg-j5MWkw</td>\n",
              "    </tr>\n",
              "    <tr>\n",
              "      <th>...</th>\n",
              "      <td>...</td>\n",
              "      <td>...</td>\n",
              "      <td>...</td>\n",
              "      <td>...</td>\n",
              "      <td>...</td>\n",
              "      <td>...</td>\n",
              "      <td>...</td>\n",
              "      <td>...</td>\n",
              "    </tr>\n",
              "    <tr>\n",
              "      <th>229902</th>\n",
              "      <td>Gastropubs; Restaurants</td>\n",
              "      <td>Tempe</td>\n",
              "      <td>vnffHkFJbmd-J3OaBbK2Eg</td>\n",
              "      <td>14/04/2011</td>\n",
              "      <td>2</td>\n",
              "      <td>I really wanted to like this place because it'...</td>\n",
              "      <td>0</td>\n",
              "      <td>6e7pZofhDuIlD_rX2oYirQ</td>\n",
              "    </tr>\n",
              "    <tr>\n",
              "      <th>229903</th>\n",
              "      <td>Hotels &amp; Travel; Event Planning &amp; Services; Ho...</td>\n",
              "      <td>Peoria</td>\n",
              "      <td>l5oUrgQ190l8CcN8uzd_pA</td>\n",
              "      <td>23/01/2011</td>\n",
              "      <td>1</td>\n",
              "      <td>My husband I stayed here for two nights.  Of c...</td>\n",
              "      <td>2</td>\n",
              "      <td>dDNfSFT0VApxPmURclX6_g</td>\n",
              "    </tr>\n",
              "    <tr>\n",
              "      <th>229904</th>\n",
              "      <td>Pubs; Bars; American (Traditional); Nightlife;...</td>\n",
              "      <td>Tempe</td>\n",
              "      <td>#NAME?</td>\n",
              "      <td>11/10/2010</td>\n",
              "      <td>4</td>\n",
              "      <td>Cool atmosphere. A lot of beers on tap and goo...</td>\n",
              "      <td>0</td>\n",
              "      <td>M5wHt6Odh1k5v0tIjqd8DQ</td>\n",
              "    </tr>\n",
              "    <tr>\n",
              "      <th>229905</th>\n",
              "      <td>Wine Bars; Bars; Pizza; Nightlife; Restaurants</td>\n",
              "      <td>Tempe</td>\n",
              "      <td>YQvg0JCGRFUkb6reMMf3Iw</td>\n",
              "      <td>18/01/2011</td>\n",
              "      <td>3</td>\n",
              "      <td>I have to take a star off for the spotty servi...</td>\n",
              "      <td>2</td>\n",
              "      <td>jopndPrv-H5KW2CfScnw9A</td>\n",
              "    </tr>\n",
              "    <tr>\n",
              "      <th>229906</th>\n",
              "      <td>Churches; Religious Organizations</td>\n",
              "      <td>Phoenix</td>\n",
              "      <td>gKxOZvQTTd5hpFa3r5igGQ</td>\n",
              "      <td>14/08/2010</td>\n",
              "      <td>5</td>\n",
              "      <td>So cool, yo.</td>\n",
              "      <td>0</td>\n",
              "      <td>mbRUG6h0Mgb2XIJvscIoMg</td>\n",
              "    </tr>\n",
              "  </tbody>\n",
              "</table>\n",
              "<p>229124 rows × 8 columns</p>\n",
              "</div>\n",
              "      <button class=\"colab-df-convert\" onclick=\"convertToInteractive('df-ed1ac61d-7857-41a1-9d77-e5c4ae5b4c3a')\"\n",
              "              title=\"Convert this dataframe to an interactive table.\"\n",
              "              style=\"display:none;\">\n",
              "        \n",
              "  <svg xmlns=\"http://www.w3.org/2000/svg\" height=\"24px\"viewBox=\"0 0 24 24\"\n",
              "       width=\"24px\">\n",
              "    <path d=\"M0 0h24v24H0V0z\" fill=\"none\"/>\n",
              "    <path d=\"M18.56 5.44l.94 2.06.94-2.06 2.06-.94-2.06-.94-.94-2.06-.94 2.06-2.06.94zm-11 1L8.5 8.5l.94-2.06 2.06-.94-2.06-.94L8.5 2.5l-.94 2.06-2.06.94zm10 10l.94 2.06.94-2.06 2.06-.94-2.06-.94-.94-2.06-.94 2.06-2.06.94z\"/><path d=\"M17.41 7.96l-1.37-1.37c-.4-.4-.92-.59-1.43-.59-.52 0-1.04.2-1.43.59L10.3 9.45l-7.72 7.72c-.78.78-.78 2.05 0 2.83L4 21.41c.39.39.9.59 1.41.59.51 0 1.02-.2 1.41-.59l7.78-7.78 2.81-2.81c.8-.78.8-2.07 0-2.86zM5.41 20L4 18.59l7.72-7.72 1.47 1.35L5.41 20z\"/>\n",
              "  </svg>\n",
              "      </button>\n",
              "      \n",
              "  <style>\n",
              "    .colab-df-container {\n",
              "      display:flex;\n",
              "      flex-wrap:wrap;\n",
              "      gap: 12px;\n",
              "    }\n",
              "\n",
              "    .colab-df-convert {\n",
              "      background-color: #E8F0FE;\n",
              "      border: none;\n",
              "      border-radius: 50%;\n",
              "      cursor: pointer;\n",
              "      display: none;\n",
              "      fill: #1967D2;\n",
              "      height: 32px;\n",
              "      padding: 0 0 0 0;\n",
              "      width: 32px;\n",
              "    }\n",
              "\n",
              "    .colab-df-convert:hover {\n",
              "      background-color: #E2EBFA;\n",
              "      box-shadow: 0px 1px 2px rgba(60, 64, 67, 0.3), 0px 1px 3px 1px rgba(60, 64, 67, 0.15);\n",
              "      fill: #174EA6;\n",
              "    }\n",
              "\n",
              "    [theme=dark] .colab-df-convert {\n",
              "      background-color: #3B4455;\n",
              "      fill: #D2E3FC;\n",
              "    }\n",
              "\n",
              "    [theme=dark] .colab-df-convert:hover {\n",
              "      background-color: #434B5C;\n",
              "      box-shadow: 0px 1px 3px 1px rgba(0, 0, 0, 0.15);\n",
              "      filter: drop-shadow(0px 1px 2px rgba(0, 0, 0, 0.3));\n",
              "      fill: #FFFFFF;\n",
              "    }\n",
              "  </style>\n",
              "\n",
              "      <script>\n",
              "        const buttonEl =\n",
              "          document.querySelector('#df-ed1ac61d-7857-41a1-9d77-e5c4ae5b4c3a button.colab-df-convert');\n",
              "        buttonEl.style.display =\n",
              "          google.colab.kernel.accessAllowed ? 'block' : 'none';\n",
              "\n",
              "        async function convertToInteractive(key) {\n",
              "          const element = document.querySelector('#df-ed1ac61d-7857-41a1-9d77-e5c4ae5b4c3a');\n",
              "          const dataTable =\n",
              "            await google.colab.kernel.invokeFunction('convertToInteractive',\n",
              "                                                     [key], {});\n",
              "          if (!dataTable) return;\n",
              "\n",
              "          const docLinkHtml = 'Like what you see? Visit the ' +\n",
              "            '<a target=\"_blank\" href=https://colab.research.google.com/notebooks/data_table.ipynb>data table notebook</a>'\n",
              "            + ' to learn more about interactive tables.';\n",
              "          element.innerHTML = '';\n",
              "          dataTable['output_type'] = 'display_data';\n",
              "          await google.colab.output.renderOutput(dataTable, element);\n",
              "          const docLink = document.createElement('div');\n",
              "          docLink.innerHTML = docLinkHtml;\n",
              "          element.appendChild(docLink);\n",
              "        }\n",
              "      </script>\n",
              "    </div>\n",
              "  </div>\n",
              "  "
            ]
          },
          "metadata": {},
          "execution_count": 28
        }
      ]
    },
    {
      "cell_type": "code",
      "source": [
        "print(\"Length of Data : \", len(data))"
      ],
      "metadata": {
        "colab": {
          "base_uri": "https://localhost:8080/"
        },
        "id": "5L_hyLz4J1qK",
        "outputId": "46b104f6-adea-4f0d-82e1-33463760356b"
      },
      "execution_count": null,
      "outputs": [
        {
          "output_type": "stream",
          "name": "stdout",
          "text": [
            "Length of Data :  229907\n"
          ]
        }
      ]
    },
    {
      "cell_type": "code",
      "source": [
        "\n",
        "\n",
        "data.replace(to_replace='#NAME?', value=np.NAN)\n",
        "data.replace(to_replace='#VALUE!', value=np.NAN)\n"
      ],
      "metadata": {
        "colab": {
          "base_uri": "https://localhost:8080/",
          "height": 217
        },
        "id": "r-iwUCBOWDN9",
        "outputId": "53470ff5-0e61-47dd-8b6c-4aad06adaf80"
      },
      "execution_count": null,
      "outputs": [
        {
          "output_type": "error",
          "ename": "NameError",
          "evalue": "ignored",
          "traceback": [
            "\u001b[0;31m---------------------------------------------------------------------------\u001b[0m",
            "\u001b[0;31mNameError\u001b[0m                                 Traceback (most recent call last)",
            "\u001b[0;32m<ipython-input-1-f328f9c4f79e>\u001b[0m in \u001b[0;36m<cell line: 4>\u001b[0;34m()\u001b[0m\n\u001b[1;32m      2\u001b[0m \u001b[0;31m#ANSWER\u001b[0m\u001b[0;34m\u001b[0m\u001b[0;34m\u001b[0m\u001b[0m\n\u001b[1;32m      3\u001b[0m \u001b[0;34m\u001b[0m\u001b[0m\n\u001b[0;32m----> 4\u001b[0;31m \u001b[0mdata\u001b[0m\u001b[0;34m.\u001b[0m\u001b[0mreplace\u001b[0m\u001b[0;34m(\u001b[0m\u001b[0mto_replace\u001b[0m\u001b[0;34m=\u001b[0m\u001b[0;34m'#NAME?'\u001b[0m\u001b[0;34m,\u001b[0m \u001b[0mvalue\u001b[0m\u001b[0;34m=\u001b[0m\u001b[0mnp\u001b[0m\u001b[0;34m.\u001b[0m\u001b[0mNAN\u001b[0m\u001b[0;34m)\u001b[0m\u001b[0;34m\u001b[0m\u001b[0;34m\u001b[0m\u001b[0m\n\u001b[0m\u001b[1;32m      5\u001b[0m \u001b[0mdata\u001b[0m\u001b[0;34m.\u001b[0m\u001b[0mreplace\u001b[0m\u001b[0;34m(\u001b[0m\u001b[0mto_replace\u001b[0m\u001b[0;34m=\u001b[0m\u001b[0;34m'#VALUE!'\u001b[0m\u001b[0;34m,\u001b[0m \u001b[0mvalue\u001b[0m\u001b[0;34m=\u001b[0m\u001b[0mnp\u001b[0m\u001b[0;34m.\u001b[0m\u001b[0mNAN\u001b[0m\u001b[0;34m)\u001b[0m\u001b[0;34m\u001b[0m\u001b[0;34m\u001b[0m\u001b[0m\n",
            "\u001b[0;31mNameError\u001b[0m: name 'data' is not defined"
          ]
        }
      ]
    },
    {
      "cell_type": "code",
      "source": [
        "newdata = data.dropna(axis=0,how='any')\n",
        "newdata"
      ],
      "metadata": {
        "colab": {
          "base_uri": "https://localhost:8080/",
          "height": 797
        },
        "id": "2LsWa_CPWs5Q",
        "outputId": "9aeaf605-124d-4f72-83ff-b4da7b40d639"
      },
      "execution_count": null,
      "outputs": [
        {
          "output_type": "execute_result",
          "data": {
            "text/plain": [
              "                                      business_categories business_city  \\\n",
              "0                         Breakfast & Brunch; Restaurants       Phoenix   \n",
              "1                             Italian; Pizza; Restaurants       Phoenix   \n",
              "2                             Middle Eastern; Restaurants         Tempe   \n",
              "3                           Active Life; Dog Parks; Parks    Scottsdale   \n",
              "4                                       Tires; Automotive          Mesa   \n",
              "...                                                   ...           ...   \n",
              "229902                            Gastropubs; Restaurants         Tempe   \n",
              "229903  Hotels & Travel; Event Planning & Services; Ho...        Peoria   \n",
              "229904  Pubs; Bars; American (Traditional); Nightlife;...         Tempe   \n",
              "229905     Wine Bars; Bars; Pizza; Nightlife; Restaurants         Tempe   \n",
              "229906                  Churches; Religious Organizations       Phoenix   \n",
              "\n",
              "                   business_id        date  stars  \\\n",
              "0       9yKzy9PApeiPPOUJEtnvkg  26/01/2011      5   \n",
              "1       ZRJwVLyzEJq1VAihDhYiow  27/07/2011      5   \n",
              "2       6oRAC4uyJCsJl1X0WZpVSA  14/06/2012      4   \n",
              "3       _1QQZuf4zZOyFCvXc0o6Vg  27/05/2010      5   \n",
              "4       6ozycU1RpktNG2-1BroVtw  05/01/2012      5   \n",
              "...                        ...         ...    ...   \n",
              "229902  vnffHkFJbmd-J3OaBbK2Eg  14/04/2011      2   \n",
              "229903  l5oUrgQ190l8CcN8uzd_pA  23/01/2011      1   \n",
              "229904                  #NAME?  11/10/2010      4   \n",
              "229905  YQvg0JCGRFUkb6reMMf3Iw  18/01/2011      3   \n",
              "229906  gKxOZvQTTd5hpFa3r5igGQ  14/08/2010      5   \n",
              "\n",
              "                                                     text  useful  \\\n",
              "0       My wife took me here on my birthday for breakf...       5   \n",
              "1       I have no idea why some people give bad review...       0   \n",
              "2       love the gyro plate. Rice is so good and I als...       1   \n",
              "3       Rosie, Dakota, and I LOVE Chaparral Dog Park!!...       2   \n",
              "4       General Manager Scott Petello is a good egg!!!...       0   \n",
              "...                                                   ...     ...   \n",
              "229902  I really wanted to like this place because it'...       0   \n",
              "229903  My husband I stayed here for two nights.  Of c...       2   \n",
              "229904  Cool atmosphere. A lot of beers on tap and goo...       0   \n",
              "229905  I have to take a star off for the spotty servi...       2   \n",
              "229906                                       So cool, yo.       0   \n",
              "\n",
              "                       user_id  \n",
              "0       rLtl8ZkDX5vH5nAx9C3q5Q  \n",
              "1       0a2KyEL0d3Yb1V6aivbIuQ  \n",
              "2       0hT2KtfLiobPvh6cDC8JQg  \n",
              "3       uZetl9T0NcROGOyFfughhg  \n",
              "4       vYmM4KTsC8ZfQBg-j5MWkw  \n",
              "...                        ...  \n",
              "229902  6e7pZofhDuIlD_rX2oYirQ  \n",
              "229903  dDNfSFT0VApxPmURclX6_g  \n",
              "229904  M5wHt6Odh1k5v0tIjqd8DQ  \n",
              "229905  jopndPrv-H5KW2CfScnw9A  \n",
              "229906  mbRUG6h0Mgb2XIJvscIoMg  \n",
              "\n",
              "[229124 rows x 8 columns]"
            ],
            "text/html": [
              "\n",
              "  <div id=\"df-9f53e154-3634-46cb-8a30-b6954f02b3cd\">\n",
              "    <div class=\"colab-df-container\">\n",
              "      <div>\n",
              "<style scoped>\n",
              "    .dataframe tbody tr th:only-of-type {\n",
              "        vertical-align: middle;\n",
              "    }\n",
              "\n",
              "    .dataframe tbody tr th {\n",
              "        vertical-align: top;\n",
              "    }\n",
              "\n",
              "    .dataframe thead th {\n",
              "        text-align: right;\n",
              "    }\n",
              "</style>\n",
              "<table border=\"1\" class=\"dataframe\">\n",
              "  <thead>\n",
              "    <tr style=\"text-align: right;\">\n",
              "      <th></th>\n",
              "      <th>business_categories</th>\n",
              "      <th>business_city</th>\n",
              "      <th>business_id</th>\n",
              "      <th>date</th>\n",
              "      <th>stars</th>\n",
              "      <th>text</th>\n",
              "      <th>useful</th>\n",
              "      <th>user_id</th>\n",
              "    </tr>\n",
              "  </thead>\n",
              "  <tbody>\n",
              "    <tr>\n",
              "      <th>0</th>\n",
              "      <td>Breakfast &amp; Brunch; Restaurants</td>\n",
              "      <td>Phoenix</td>\n",
              "      <td>9yKzy9PApeiPPOUJEtnvkg</td>\n",
              "      <td>26/01/2011</td>\n",
              "      <td>5</td>\n",
              "      <td>My wife took me here on my birthday for breakf...</td>\n",
              "      <td>5</td>\n",
              "      <td>rLtl8ZkDX5vH5nAx9C3q5Q</td>\n",
              "    </tr>\n",
              "    <tr>\n",
              "      <th>1</th>\n",
              "      <td>Italian; Pizza; Restaurants</td>\n",
              "      <td>Phoenix</td>\n",
              "      <td>ZRJwVLyzEJq1VAihDhYiow</td>\n",
              "      <td>27/07/2011</td>\n",
              "      <td>5</td>\n",
              "      <td>I have no idea why some people give bad review...</td>\n",
              "      <td>0</td>\n",
              "      <td>0a2KyEL0d3Yb1V6aivbIuQ</td>\n",
              "    </tr>\n",
              "    <tr>\n",
              "      <th>2</th>\n",
              "      <td>Middle Eastern; Restaurants</td>\n",
              "      <td>Tempe</td>\n",
              "      <td>6oRAC4uyJCsJl1X0WZpVSA</td>\n",
              "      <td>14/06/2012</td>\n",
              "      <td>4</td>\n",
              "      <td>love the gyro plate. Rice is so good and I als...</td>\n",
              "      <td>1</td>\n",
              "      <td>0hT2KtfLiobPvh6cDC8JQg</td>\n",
              "    </tr>\n",
              "    <tr>\n",
              "      <th>3</th>\n",
              "      <td>Active Life; Dog Parks; Parks</td>\n",
              "      <td>Scottsdale</td>\n",
              "      <td>_1QQZuf4zZOyFCvXc0o6Vg</td>\n",
              "      <td>27/05/2010</td>\n",
              "      <td>5</td>\n",
              "      <td>Rosie, Dakota, and I LOVE Chaparral Dog Park!!...</td>\n",
              "      <td>2</td>\n",
              "      <td>uZetl9T0NcROGOyFfughhg</td>\n",
              "    </tr>\n",
              "    <tr>\n",
              "      <th>4</th>\n",
              "      <td>Tires; Automotive</td>\n",
              "      <td>Mesa</td>\n",
              "      <td>6ozycU1RpktNG2-1BroVtw</td>\n",
              "      <td>05/01/2012</td>\n",
              "      <td>5</td>\n",
              "      <td>General Manager Scott Petello is a good egg!!!...</td>\n",
              "      <td>0</td>\n",
              "      <td>vYmM4KTsC8ZfQBg-j5MWkw</td>\n",
              "    </tr>\n",
              "    <tr>\n",
              "      <th>...</th>\n",
              "      <td>...</td>\n",
              "      <td>...</td>\n",
              "      <td>...</td>\n",
              "      <td>...</td>\n",
              "      <td>...</td>\n",
              "      <td>...</td>\n",
              "      <td>...</td>\n",
              "      <td>...</td>\n",
              "    </tr>\n",
              "    <tr>\n",
              "      <th>229902</th>\n",
              "      <td>Gastropubs; Restaurants</td>\n",
              "      <td>Tempe</td>\n",
              "      <td>vnffHkFJbmd-J3OaBbK2Eg</td>\n",
              "      <td>14/04/2011</td>\n",
              "      <td>2</td>\n",
              "      <td>I really wanted to like this place because it'...</td>\n",
              "      <td>0</td>\n",
              "      <td>6e7pZofhDuIlD_rX2oYirQ</td>\n",
              "    </tr>\n",
              "    <tr>\n",
              "      <th>229903</th>\n",
              "      <td>Hotels &amp; Travel; Event Planning &amp; Services; Ho...</td>\n",
              "      <td>Peoria</td>\n",
              "      <td>l5oUrgQ190l8CcN8uzd_pA</td>\n",
              "      <td>23/01/2011</td>\n",
              "      <td>1</td>\n",
              "      <td>My husband I stayed here for two nights.  Of c...</td>\n",
              "      <td>2</td>\n",
              "      <td>dDNfSFT0VApxPmURclX6_g</td>\n",
              "    </tr>\n",
              "    <tr>\n",
              "      <th>229904</th>\n",
              "      <td>Pubs; Bars; American (Traditional); Nightlife;...</td>\n",
              "      <td>Tempe</td>\n",
              "      <td>#NAME?</td>\n",
              "      <td>11/10/2010</td>\n",
              "      <td>4</td>\n",
              "      <td>Cool atmosphere. A lot of beers on tap and goo...</td>\n",
              "      <td>0</td>\n",
              "      <td>M5wHt6Odh1k5v0tIjqd8DQ</td>\n",
              "    </tr>\n",
              "    <tr>\n",
              "      <th>229905</th>\n",
              "      <td>Wine Bars; Bars; Pizza; Nightlife; Restaurants</td>\n",
              "      <td>Tempe</td>\n",
              "      <td>YQvg0JCGRFUkb6reMMf3Iw</td>\n",
              "      <td>18/01/2011</td>\n",
              "      <td>3</td>\n",
              "      <td>I have to take a star off for the spotty servi...</td>\n",
              "      <td>2</td>\n",
              "      <td>jopndPrv-H5KW2CfScnw9A</td>\n",
              "    </tr>\n",
              "    <tr>\n",
              "      <th>229906</th>\n",
              "      <td>Churches; Religious Organizations</td>\n",
              "      <td>Phoenix</td>\n",
              "      <td>gKxOZvQTTd5hpFa3r5igGQ</td>\n",
              "      <td>14/08/2010</td>\n",
              "      <td>5</td>\n",
              "      <td>So cool, yo.</td>\n",
              "      <td>0</td>\n",
              "      <td>mbRUG6h0Mgb2XIJvscIoMg</td>\n",
              "    </tr>\n",
              "  </tbody>\n",
              "</table>\n",
              "<p>229124 rows × 8 columns</p>\n",
              "</div>\n",
              "      <button class=\"colab-df-convert\" onclick=\"convertToInteractive('df-9f53e154-3634-46cb-8a30-b6954f02b3cd')\"\n",
              "              title=\"Convert this dataframe to an interactive table.\"\n",
              "              style=\"display:none;\">\n",
              "        \n",
              "  <svg xmlns=\"http://www.w3.org/2000/svg\" height=\"24px\"viewBox=\"0 0 24 24\"\n",
              "       width=\"24px\">\n",
              "    <path d=\"M0 0h24v24H0V0z\" fill=\"none\"/>\n",
              "    <path d=\"M18.56 5.44l.94 2.06.94-2.06 2.06-.94-2.06-.94-.94-2.06-.94 2.06-2.06.94zm-11 1L8.5 8.5l.94-2.06 2.06-.94-2.06-.94L8.5 2.5l-.94 2.06-2.06.94zm10 10l.94 2.06.94-2.06 2.06-.94-2.06-.94-.94-2.06-.94 2.06-2.06.94z\"/><path d=\"M17.41 7.96l-1.37-1.37c-.4-.4-.92-.59-1.43-.59-.52 0-1.04.2-1.43.59L10.3 9.45l-7.72 7.72c-.78.78-.78 2.05 0 2.83L4 21.41c.39.39.9.59 1.41.59.51 0 1.02-.2 1.41-.59l7.78-7.78 2.81-2.81c.8-.78.8-2.07 0-2.86zM5.41 20L4 18.59l7.72-7.72 1.47 1.35L5.41 20z\"/>\n",
              "  </svg>\n",
              "      </button>\n",
              "      \n",
              "  <style>\n",
              "    .colab-df-container {\n",
              "      display:flex;\n",
              "      flex-wrap:wrap;\n",
              "      gap: 12px;\n",
              "    }\n",
              "\n",
              "    .colab-df-convert {\n",
              "      background-color: #E8F0FE;\n",
              "      border: none;\n",
              "      border-radius: 50%;\n",
              "      cursor: pointer;\n",
              "      display: none;\n",
              "      fill: #1967D2;\n",
              "      height: 32px;\n",
              "      padding: 0 0 0 0;\n",
              "      width: 32px;\n",
              "    }\n",
              "\n",
              "    .colab-df-convert:hover {\n",
              "      background-color: #E2EBFA;\n",
              "      box-shadow: 0px 1px 2px rgba(60, 64, 67, 0.3), 0px 1px 3px 1px rgba(60, 64, 67, 0.15);\n",
              "      fill: #174EA6;\n",
              "    }\n",
              "\n",
              "    [theme=dark] .colab-df-convert {\n",
              "      background-color: #3B4455;\n",
              "      fill: #D2E3FC;\n",
              "    }\n",
              "\n",
              "    [theme=dark] .colab-df-convert:hover {\n",
              "      background-color: #434B5C;\n",
              "      box-shadow: 0px 1px 3px 1px rgba(0, 0, 0, 0.15);\n",
              "      filter: drop-shadow(0px 1px 2px rgba(0, 0, 0, 0.3));\n",
              "      fill: #FFFFFF;\n",
              "    }\n",
              "  </style>\n",
              "\n",
              "      <script>\n",
              "        const buttonEl =\n",
              "          document.querySelector('#df-9f53e154-3634-46cb-8a30-b6954f02b3cd button.colab-df-convert');\n",
              "        buttonEl.style.display =\n",
              "          google.colab.kernel.accessAllowed ? 'block' : 'none';\n",
              "\n",
              "        async function convertToInteractive(key) {\n",
              "          const element = document.querySelector('#df-9f53e154-3634-46cb-8a30-b6954f02b3cd');\n",
              "          const dataTable =\n",
              "            await google.colab.kernel.invokeFunction('convertToInteractive',\n",
              "                                                     [key], {});\n",
              "          if (!dataTable) return;\n",
              "\n",
              "          const docLinkHtml = 'Like what you see? Visit the ' +\n",
              "            '<a target=\"_blank\" href=https://colab.research.google.com/notebooks/data_table.ipynb>data table notebook</a>'\n",
              "            + ' to learn more about interactive tables.';\n",
              "          element.innerHTML = '';\n",
              "          dataTable['output_type'] = 'display_data';\n",
              "          await google.colab.output.renderOutput(dataTable, element);\n",
              "          const docLink = document.createElement('div');\n",
              "          docLink.innerHTML = docLinkHtml;\n",
              "          element.appendChild(docLink);\n",
              "        }\n",
              "      </script>\n",
              "    </div>\n",
              "  </div>\n",
              "  "
            ]
          },
          "metadata": {},
          "execution_count": 31
        }
      ]
    },
    {
      "cell_type": "code",
      "source": [
        "\n",
        "\n",
        "print(len(data))"
      ],
      "metadata": {
        "colab": {
          "base_uri": "https://localhost:8080/"
        },
        "id": "VjmNUkuUW9CX",
        "outputId": "d1577d7f-bb71-4cca-e445-200024be8863"
      },
      "execution_count": null,
      "outputs": [
        {
          "output_type": "stream",
          "name": "stdout",
          "text": [
            "229907\n"
          ]
        }
      ]
    },
    {
      "cell_type": "markdown",
      "source": [
        "# **New DATA FRAME LENGTH**"
      ],
      "metadata": {
        "id": "LcTW6MAz41ap"
      }
    },
    {
      "cell_type": "code",
      "source": [
        "print(len(data)-len(newdata))"
      ],
      "metadata": {
        "colab": {
          "base_uri": "https://localhost:8080/"
        },
        "id": "hJlYeWvmXOz_",
        "outputId": "bce135c6-4fef-49c0-a158-7a8fa9a393cf"
      },
      "execution_count": null,
      "outputs": [
        {
          "output_type": "stream",
          "name": "stdout",
          "text": [
            "783\n"
          ]
        }
      ]
    },
    {
      "cell_type": "code",
      "source": [
        "newdata['business_city'].unique()"
      ],
      "metadata": {
        "colab": {
          "base_uri": "https://localhost:8080/"
        },
        "id": "j_Pk_dQmYA-c",
        "outputId": "80646473-eec7-42c4-b809-154425083ac4"
      },
      "execution_count": null,
      "outputs": [
        {
          "output_type": "execute_result",
          "data": {
            "text/plain": [
              "array(['Phoenix', 'Tempe', 'Scottsdale', 'Mesa', 'Chandler', 'Gilbert',\n",
              "       'Glendale', 'Tolleson', 'Surprise', 'Sun City', 'Paradise Valley',\n",
              "       'Peoria', 'Buckeye', 'Florence', 'Avondale', 'Goodyear', 'Anthem',\n",
              "       'Cave Creek', 'Youngtown', 'Queen Creek', 'Fountain Hills',\n",
              "       'Fountain Hls', 'Sun Lakes', 'Fort McDowell', 'Apache Junction',\n",
              "       'Litchfield Park', 'Morristown', 'Waddell', 'Carefree', 'Laveen',\n",
              "       'Wickenburg', 'Casa Grande', 'Guadalupe', 'Maricopa',\n",
              "       'Gold Canyon', 'San Tan Valley', 'North Scottsdale',\n",
              "       'Tortilla Flat', 'Sun City West', 'Good Year', 'Ahwatukee',\n",
              "       'Scottsdale ', 'Rio Verde', 'Coolidge', 'Gila Bend', 'El Mirage',\n",
              "       'Higley', 'Saguaro Lake', 'Goldfield', 'Tucson', 'Yuma',\n",
              "       'Charleston', 'Pheonix', 'Stanfield', 'Glendale Az', 'North Pinal',\n",
              "       'Sun City Anthem', 'Grand Junction', 'Tonopah', 'Wittmann',\n",
              "       'Tonto Basin'], dtype=object)"
            ]
          },
          "metadata": {},
          "execution_count": 35
        }
      ]
    },
    {
      "cell_type": "code",
      "source": [
        "note= {'City': ['Phoenix', 'Tempe', 'Scottsdale', 'Mesa', 'Chandler', 'Gilbert',\n",
        "       'Glendale', 'Tolleson', 'Surprise', 'Sun City', 'Paradise Valley',\n",
        "       'Peoria', 'Buckeye', 'Florence', 'Avondale', 'Goodyear', 'Anthem',\n",
        "       'Cave Creek', 'Youngtown', 'Queen Creek', 'Fountain Hills',\n",
        "       'Fountain Hls', 'Sun Lakes', 'Fort McDowell', 'Apache Junction',\n",
        "       'Litchfield Park', 'Morristown', 'Waddell', 'Carefree', 'Laveen',\n",
        "       'Wickenburg', 'Casa Grande', 'Guadalupe', 'Maricopa',\n",
        "       'Gold Canyon', 'San Tan Valley', 'North Scottsdale',\n",
        "       'Tortilla Flat', 'Sun City West', 'Good Year', 'Ahwatukee',\n",
        "       'Scottsdale ', 'Rio Verde', 'Coolidge', 'Gila Bend', 'El Mirage',\n",
        "       'Higley', 'Saguaro Lake', 'Goldfield', 'Tucson', 'Yuma',\n",
        "       'Charleston', 'Pheonix', 'Stanfield', 'Glendale Az', 'North Pinal',\n",
        "       'Sun City Anthem', 'Grand Junction', 'Tonopah', 'Wittmann',\n",
        "       'Tonto Basin']}\n",
        "\n",
        "rd = pd.DataFrame(note, columns=['City'])\n",
        "print(rd)"
      ],
      "metadata": {
        "colab": {
          "base_uri": "https://localhost:8080/"
        },
        "id": "nljHfdHjYPLG",
        "outputId": "271b21e1-4451-4308-87fe-34cbd42ad114"
      },
      "execution_count": null,
      "outputs": [
        {
          "output_type": "stream",
          "name": "stdout",
          "text": [
            "               City\n",
            "0           Phoenix\n",
            "1             Tempe\n",
            "2        Scottsdale\n",
            "3              Mesa\n",
            "4          Chandler\n",
            "..              ...\n",
            "56  Sun City Anthem\n",
            "57   Grand Junction\n",
            "58          Tonopah\n",
            "59         Wittmann\n",
            "60      Tonto Basin\n",
            "\n",
            "[61 rows x 1 columns]\n"
          ]
        }
      ]
    },
    {
      "cell_type": "code",
      "source": [
        "import random\n",
        "random.seed(42)\n",
        "rancity = rd.sample(n=10)\n",
        "print(rancity)"
      ],
      "metadata": {
        "colab": {
          "base_uri": "https://localhost:8080/"
        },
        "id": "3utwSyReYu2c",
        "outputId": "558b1770-936f-4cdb-e849-bf5bcf7aa31c"
      },
      "execution_count": null,
      "outputs": [
        {
          "output_type": "stream",
          "name": "stdout",
          "text": [
            "               City\n",
            "24  Apache Junction\n",
            "18        Youngtown\n",
            "55      North Pinal\n",
            "29           Laveen\n",
            "38    Sun City West\n",
            "60      Tonto Basin\n",
            "59         Wittmann\n",
            "35   San Tan Valley\n",
            "30       Wickenburg\n",
            "33         Maricopa\n"
          ]
        }
      ]
    },
    {
      "cell_type": "code",
      "source": [
        "starss = newdata.loc[:,'stars']\n",
        "print(starss)"
      ],
      "metadata": {
        "colab": {
          "base_uri": "https://localhost:8080/"
        },
        "id": "0S7ddkSjZLUy",
        "outputId": "86e949af-0a67-4f57-eb5f-0f3cd4673a46"
      },
      "execution_count": null,
      "outputs": [
        {
          "output_type": "stream",
          "name": "stdout",
          "text": [
            "0         5\n",
            "1         5\n",
            "2         4\n",
            "3         5\n",
            "4         5\n",
            "         ..\n",
            "229902    2\n",
            "229903    1\n",
            "229904    4\n",
            "229905    3\n",
            "229906    5\n",
            "Name: stars, Length: 229124, dtype: int64\n"
          ]
        }
      ]
    },
    {
      "cell_type": "code",
      "source": [
        "#COUNT\n",
        "\n",
        "c=starss.count()\n",
        "print(c)\n"
      ],
      "metadata": {
        "colab": {
          "base_uri": "https://localhost:8080/"
        },
        "id": "EuJvw2l5ZgCR",
        "outputId": "cf5093a2-1dc5-4343-8ff6-2d5abae8c3ef"
      },
      "execution_count": null,
      "outputs": [
        {
          "output_type": "stream",
          "name": "stdout",
          "text": [
            "229124\n"
          ]
        }
      ]
    },
    {
      "cell_type": "code",
      "source": [
        "sd=starss.std()\n",
        "print(sd)"
      ],
      "metadata": {
        "colab": {
          "base_uri": "https://localhost:8080/"
        },
        "id": "Ex3VDicOZrzo",
        "outputId": "46e856cd-c8fc-4a46-f099-e2d97f9868f0"
      },
      "execution_count": null,
      "outputs": [
        {
          "output_type": "stream",
          "name": "stdout",
          "text": [
            "1.2155579342762601\n"
          ]
        }
      ]
    },
    {
      "cell_type": "code",
      "source": [
        "print(\"SD = 1.2155579342762601\")"
      ],
      "metadata": {
        "colab": {
          "base_uri": "https://localhost:8080/"
        },
        "id": "u5j5Oayc5lUc",
        "outputId": "fd612a6f-7b7a-45d9-cb25-d1486afba4ac"
      },
      "execution_count": null,
      "outputs": [
        {
          "output_type": "stream",
          "name": "stdout",
          "text": [
            "SD = 1.2155579342762601\n"
          ]
        }
      ]
    },
    {
      "cell_type": "code",
      "source": [
        "m=starss.mean()\n",
        "print(m)"
      ],
      "metadata": {
        "colab": {
          "base_uri": "https://localhost:8080/"
        },
        "id": "QZ_qBB80Z1rU",
        "outputId": "8dbd4cd9-1113-4853-9d6e-187563cf5dcc"
      },
      "execution_count": null,
      "outputs": [
        {
          "output_type": "stream",
          "name": "stdout",
          "text": [
            "3.7678418672858367\n"
          ]
        }
      ]
    },
    {
      "cell_type": "code",
      "source": [
        "print(\"Mean = 3.7678418672858367\")"
      ],
      "metadata": {
        "colab": {
          "base_uri": "https://localhost:8080/"
        },
        "id": "7_WTHS4A5bQr",
        "outputId": "6234430b-b952-4908-d600-6b8984100470"
      },
      "execution_count": null,
      "outputs": [
        {
          "output_type": "stream",
          "name": "stdout",
          "text": [
            "Mean = 3.7678418672858367\n"
          ]
        }
      ]
    },
    {
      "cell_type": "code",
      "source": [
        "min=starss.min()\n",
        "print(min)"
      ],
      "metadata": {
        "colab": {
          "base_uri": "https://localhost:8080/"
        },
        "id": "L9VJVpR9Z8_u",
        "outputId": "cbcc0f30-d427-49be-b0ae-8b21dbbe9ec4"
      },
      "execution_count": null,
      "outputs": [
        {
          "output_type": "stream",
          "name": "stdout",
          "text": [
            "1\n"
          ]
        }
      ]
    },
    {
      "cell_type": "code",
      "source": [
        "maxx= starss.max()\n",
        "print(maxx)"
      ],
      "metadata": {
        "colab": {
          "base_uri": "https://localhost:8080/"
        },
        "id": "q1vq_NvcaD-S",
        "outputId": "b7f492ed-fd4f-47dd-accc-3ac328434da1"
      },
      "execution_count": null,
      "outputs": [
        {
          "output_type": "stream",
          "name": "stdout",
          "text": [
            "5\n"
          ]
        }
      ]
    },
    {
      "cell_type": "code",
      "source": [
        "dataf= newdata.groupby('business_city')['business_id'].nunique()\n",
        "print(dataf)"
      ],
      "metadata": {
        "colab": {
          "base_uri": "https://localhost:8080/"
        },
        "id": "UI9uBoyncVHj",
        "outputId": "7ae1548b-e115-4363-f258-818e49219cc0"
      },
      "execution_count": null,
      "outputs": [
        {
          "output_type": "stream",
          "name": "stdout",
          "text": [
            "business_city\n",
            "Ahwatukee            4\n",
            "Anthem              34\n",
            "Apache Junction     45\n",
            "Avondale           127\n",
            "Buckeye             30\n",
            "                  ... \n",
            "Waddell              1\n",
            "Wickenburg          27\n",
            "Wittmann             2\n",
            "Youngtown            6\n",
            "Yuma                 1\n",
            "Name: business_id, Length: 61, dtype: int64\n"
          ]
        }
      ]
    },
    {
      "cell_type": "markdown",
      "source": [
        "#COUNT"
      ],
      "metadata": {
        "id": "YmH736EA6FCq"
      }
    },
    {
      "cell_type": "code",
      "source": [
        "c=dataf.count()\n",
        "print(c)"
      ],
      "metadata": {
        "colab": {
          "base_uri": "https://localhost:8080/"
        },
        "id": "nJL9DmPxdI1x",
        "outputId": "d2fa5eee-f852-489d-a39b-d31dae9ae48d"
      },
      "execution_count": null,
      "outputs": [
        {
          "output_type": "stream",
          "name": "stdout",
          "text": [
            "61\n"
          ]
        }
      ]
    },
    {
      "cell_type": "markdown",
      "source": [
        "#STANDARD DEVIATION"
      ],
      "metadata": {
        "id": "WnLzMEWH59ia"
      }
    },
    {
      "cell_type": "code",
      "source": [
        "sd=dataf.std()\n",
        "print(sd)"
      ],
      "metadata": {
        "colab": {
          "base_uri": "https://localhost:8080/"
        },
        "id": "B7kQTIKgfZNH",
        "outputId": "cccf613f-e213-4e3d-a68d-201fabf9bd8e"
      },
      "execution_count": null,
      "outputs": [
        {
          "output_type": "stream",
          "name": "stdout",
          "text": [
            "598.1712211700473\n"
          ]
        }
      ]
    },
    {
      "cell_type": "markdown",
      "source": [
        "#MEAN"
      ],
      "metadata": {
        "id": "-mebulzD6B_8"
      }
    },
    {
      "cell_type": "code",
      "source": [
        "m=dataf.mean()\n",
        "print(m)"
      ],
      "metadata": {
        "colab": {
          "base_uri": "https://localhost:8080/"
        },
        "id": "S8tXcVjUfgjc",
        "outputId": "8fc3bcff-7da8-4659-ce75-85994fa03ed5"
      },
      "execution_count": null,
      "outputs": [
        {
          "output_type": "stream",
          "name": "stdout",
          "text": [
            "183.91803278688525\n"
          ]
        }
      ]
    },
    {
      "cell_type": "code",
      "source": [
        "minimum=dataf.min()\n",
        "print(minimum)"
      ],
      "metadata": {
        "colab": {
          "base_uri": "https://localhost:8080/"
        },
        "id": "zlYioU55flND",
        "outputId": "8fa0288a-d8e0-4cb5-94f5-d5cd017625fc"
      },
      "execution_count": null,
      "outputs": [
        {
          "output_type": "stream",
          "name": "stdout",
          "text": [
            "1\n"
          ]
        }
      ]
    },
    {
      "cell_type": "code",
      "source": [
        "maximum=dataf.max()\n",
        "print(maximum)"
      ],
      "metadata": {
        "colab": {
          "base_uri": "https://localhost:8080/"
        },
        "id": "86946_oufsbE",
        "outputId": "f9703dd9-a3c8-43c2-ae21-df13cc3fcb4d"
      },
      "execution_count": null,
      "outputs": [
        {
          "output_type": "stream",
          "name": "stdout",
          "text": [
            "4021\n"
          ]
        }
      ]
    },
    {
      "cell_type": "code",
      "source": [
        "\n",
        "bbu=newdata.groupby(['business_categories','business_id'])['user_id'].nunique()\n",
        "print(bbu)\n"
      ],
      "metadata": {
        "colab": {
          "base_uri": "https://localhost:8080/"
        },
        "id": "Fg7ELShNgBE7",
        "outputId": "aaecfcee-17b9-477c-e852-329b7c94ed91"
      },
      "execution_count": null,
      "outputs": [
        {
          "output_type": "stream",
          "name": "stdout",
          "text": [
            "business_categories                                                                             business_id           \n",
            "Accessories; Fashion; Shopping; Cosmetics & Beauty Supply; Beauty & Spas                        F-HBLqU3Kvs89lkQ5CjLBQ     4\n",
            "Accountants; Professional Services                                                              2k1I66IxKL9vJnRQhXWkDQ     4\n",
            "                                                                                                8EzwrhAxbeVbxuM24HElXA     5\n",
            "                                                                                                T7acIuznS5juLqB-iUQFlg     3\n",
            "                                                                                                aqYoDGcUljXeWSbL2heT0A     3\n",
            "                                                                                                                          ..\n",
            "Women's Clothing; Used, Vintage & Consignment; Fashion; Shopping; Accessories                   V3iZYqcJOoV2wMljgwK2Ig     7\n",
            "Women's Clothing; Used, Vintage & Consignment; Fashion; Shopping; Men's Clothing                3HciJAVduCRoPDdzgh7cAA    70\n",
            "                                                                                                JmEp4DxBEIrFD-rgbL8bvQ    49\n",
            "Yoga; Beauty & Spas; Food; Juice Bars & Smoothies; Fitness & Instruction; Active Life; Massage  tbANFIP17slL1xPIUsl1MA    30\n",
            "Yoga; Gyms; Weight Loss Centers; Health & Medical; Fitness & Instruction; Active Life           i9-qblQnpMmvE2G8wxJbaQ     3\n",
            "Name: user_id, Length: 11316, dtype: int64\n"
          ]
        }
      ]
    },
    {
      "cell_type": "code",
      "source": [
        "#COUNT\n",
        "c=bbu.count()\n",
        "print(c)\n",
        "\n",
        "#STANDARD DEVIATION\n",
        "sd=bbu.std()\n",
        "print(sd)\n",
        "\n",
        "\n",
        "#MEAN\n",
        "m=bbu.mean()\n",
        "print(m)\n",
        "\n",
        "\n",
        "#MINIMUM\n",
        "minimum=bbu.min()\n",
        "print(minimum)\n",
        "\n",
        "#MAXIMUM\n",
        "maximum=bbu.max()\n",
        "print(maximum)"
      ],
      "metadata": {
        "colab": {
          "base_uri": "https://localhost:8080/"
        },
        "id": "9LPtjjjcgmbU",
        "outputId": "1dac6a8f-759d-4c43-d490-30fafecfadf9"
      },
      "execution_count": null,
      "outputs": [
        {
          "output_type": "stream",
          "name": "stdout",
          "text": [
            "11316\n",
            "43.083258710105326\n",
            "20.16772711205373\n",
            "2\n",
            "833\n"
          ]
        }
      ]
    },
    {
      "cell_type": "markdown",
      "source": [
        "# Cleaned Dataset"
      ],
      "metadata": {
        "id": "2y160TKY7T-6"
      }
    },
    {
      "cell_type": "code",
      "source": [
        "import seaborn as sn\n",
        "import matplotlib.pyplot as plt\n",
        "\n",
        "\n",
        "co_matrix = newdata.corr()\n",
        "print(co_matrix)\n",
        "sn.heatmap(co_matrix, annot=True)\n",
        "plt.show()"
      ],
      "metadata": {
        "colab": {
          "base_uri": "https://localhost:8080/",
          "height": 542
        },
        "id": "Kwy4dsyJpPlt",
        "outputId": "89dc7b26-076d-486c-ec64-abb86acb2e2e"
      },
      "execution_count": null,
      "outputs": [
        {
          "output_type": "stream",
          "name": "stderr",
          "text": [
            "<ipython-input-54-5cbc35f61dd4>:6: FutureWarning: The default value of numeric_only in DataFrame.corr is deprecated. In a future version, it will default to False. Select only valid columns or specify the value of numeric_only to silence this warning.\n",
            "  co_matrix = newdata.corr()\n"
          ]
        },
        {
          "output_type": "stream",
          "name": "stdout",
          "text": [
            "           stars    useful\n",
            "stars   1.000000 -0.032866\n",
            "useful -0.032866  1.000000\n"
          ]
        },
        {
          "output_type": "display_data",
          "data": {
            "text/plain": [
              "<Figure size 640x480 with 2 Axes>"
            ],
            "image/png": "[encoded data removed]"
          },
          "metadata": {}
        }
      ]
    },
    {
      "cell_type": "markdown",
      "source": [
        "# Uncleaned Dataset"
      ],
      "metadata": {
        "id": "E79QrxIS7WPL"
      }
    },
    {
      "cell_type": "code",
      "source": [
        "corr_matrix = data.corr()\n",
        "print(corr_matrix)\n",
        "sn.heatmap(corr_matrix, annot=True)\n",
        "plt.show()"
      ],
      "metadata": {
        "colab": {
          "base_uri": "https://localhost:8080/",
          "height": 542
        },
        "id": "OqmuQ3Hvpe2d",
        "outputId": "4611a4be-977a-49be-beaf-f9acb1348a65"
      },
      "execution_count": null,
      "outputs": [
        {
          "output_type": "stream",
          "name": "stderr",
          "text": [
            "<ipython-input-55-3004d6258c5c>:2: FutureWarning: The default value of numeric_only in DataFrame.corr is deprecated. In a future version, it will default to False. Select only valid columns or specify the value of numeric_only to silence this warning.\n",
            "  corr_matrix = data.corr()\n"
          ]
        },
        {
          "output_type": "stream",
          "name": "stdout",
          "text": [
            "           stars    useful\n",
            "stars   1.000000 -0.032726\n",
            "useful -0.032726  1.000000\n"
          ]
        },
        {
          "output_type": "display_data",
          "data": {
            "text/plain": [
              "<Figure size 640x480 with 2 Axes>"
            ],
            "image/png": "[encoded data removed]"
          },
          "metadata": {}
        }
      ]
    }
  ]
}